{
 "cells": [
  {
   "cell_type": "code",
   "execution_count": 77,
   "metadata": {
    "collapsed": true
   },
   "outputs": [],
   "source": [
    "#Import modules\n",
    "import pandas as pd\n",
    "import requests\n",
    "import json\n",
    "import csv\n",
    "import numpy\n",
    "import random\n",
    "import seaborn as sb\n",
    "import matplotlib.pyplot as plt\n",
    "from config import wkey\n",
    "from pprint import pprint"
   ]
  },
  {
   "cell_type": "code",
   "execution_count": 78,
   "metadata": {
    "collapsed": true
   },
   "outputs": [],
   "source": []
  },
  {
   "cell_type": "code",
   "execution_count": 79,
   "metadata": {},
   "outputs": [],
   "source": [
    "#import csv\n",
    "cities = \"citiesweather.csv\""
   ]
  },
  {
   "cell_type": "code",
   "execution_count": 80,
   "metadata": {},
   "outputs": [
    {
     "data": {
      "text/html": [
       "<div>\n",
       "<style>\n",
       "    .dataframe thead tr:only-child th {\n",
       "        text-align: right;\n",
       "    }\n",
       "\n",
       "    .dataframe thead th {\n",
       "        text-align: left;\n",
       "    }\n",
       "\n",
       "    .dataframe tbody tr th {\n",
       "        vertical-align: top;\n",
       "    }\n",
       "</style>\n",
       "<table border=\"1\" class=\"dataframe\">\n",
       "  <thead>\n",
       "    <tr style=\"text-align: right;\">\n",
       "      <th></th>\n",
       "      <th>city</th>\n",
       "      <th>city_ascii</th>\n",
       "      <th>lat</th>\n",
       "      <th>lng</th>\n",
       "      <th>pop</th>\n",
       "      <th>country</th>\n",
       "      <th>iso2</th>\n",
       "      <th>iso3</th>\n",
       "      <th>province</th>\n",
       "    </tr>\n",
       "  </thead>\n",
       "  <tbody>\n",
       "    <tr>\n",
       "      <th>0</th>\n",
       "      <td>Anaco</td>\n",
       "      <td>Anaco</td>\n",
       "      <td>9.440004</td>\n",
       "      <td>-64.460004</td>\n",
       "      <td>100118.0</td>\n",
       "      <td>Venezuela</td>\n",
       "      <td>VE</td>\n",
       "      <td>VEN</td>\n",
       "      <td>Anzoátegui</td>\n",
       "    </tr>\n",
       "    <tr>\n",
       "      <th>1</th>\n",
       "      <td>Praia</td>\n",
       "      <td>Praia</td>\n",
       "      <td>14.916698</td>\n",
       "      <td>-23.516689</td>\n",
       "      <td>101111.5</td>\n",
       "      <td>Cape Verde</td>\n",
       "      <td>CV</td>\n",
       "      <td>CPV</td>\n",
       "      <td>NaN</td>\n",
       "    </tr>\n",
       "    <tr>\n",
       "      <th>2</th>\n",
       "      <td>Cherkessk</td>\n",
       "      <td>Cherkessk</td>\n",
       "      <td>44.290409</td>\n",
       "      <td>42.060006</td>\n",
       "      <td>101153.0</td>\n",
       "      <td>Russia</td>\n",
       "      <td>RU</td>\n",
       "      <td>RUS</td>\n",
       "      <td>Karachay-Cherkess</td>\n",
       "    </tr>\n",
       "    <tr>\n",
       "      <th>3</th>\n",
       "      <td>Koutiala</td>\n",
       "      <td>Koutiala</td>\n",
       "      <td>12.390418</td>\n",
       "      <td>-5.469987</td>\n",
       "      <td>102140.0</td>\n",
       "      <td>Mali</td>\n",
       "      <td>ML</td>\n",
       "      <td>MLI</td>\n",
       "      <td>Sikasso</td>\n",
       "    </tr>\n",
       "    <tr>\n",
       "      <th>4</th>\n",
       "      <td>Houma</td>\n",
       "      <td>Houma</td>\n",
       "      <td>35.619982</td>\n",
       "      <td>111.209997</td>\n",
       "      <td>102400.0</td>\n",
       "      <td>China</td>\n",
       "      <td>CN</td>\n",
       "      <td>CHN</td>\n",
       "      <td>Shanxi</td>\n",
       "    </tr>\n",
       "  </tbody>\n",
       "</table>\n",
       "</div>"
      ],
      "text/plain": [
       "        city city_ascii        lat         lng       pop     country iso2  \\\n",
       "0      Anaco      Anaco   9.440004  -64.460004  100118.0   Venezuela   VE   \n",
       "1      Praia      Praia  14.916698  -23.516689  101111.5  Cape Verde   CV   \n",
       "2  Cherkessk  Cherkessk  44.290409   42.060006  101153.0      Russia   RU   \n",
       "3   Koutiala   Koutiala  12.390418   -5.469987  102140.0        Mali   ML   \n",
       "4      Houma      Houma  35.619982  111.209997  102400.0       China   CN   \n",
       "\n",
       "  iso3           province  \n",
       "0  VEN         Anzoátegui  \n",
       "1  CPV                NaN  \n",
       "2  RUS  Karachay-Cherkess  \n",
       "3  MLI            Sikasso  \n",
       "4  CHN             Shanxi  "
      ]
     },
     "execution_count": 80,
     "metadata": {},
     "output_type": "execute_result"
    }
   ],
   "source": [
    "#Randomly select 500 cities\n",
    "#number of records in file (excludes header)\n",
    "n = sum(1 for line in open(cities, encoding=\"utf8\")) - 1 \n",
    "s = 500 #desired sample size\n",
    "skip = sorted(random.sample(range(1,n+1),n-s)) #the 0-indexed header will not be included in the skip list\n",
    "cities_df = pd.read_csv(cities, skiprows=skip)\n",
    "cities_df.head()"
   ]
  },
  {
   "cell_type": "code",
   "execution_count": 81,
   "metadata": {},
   "outputs": [
    {
     "data": {
      "text/plain": [
       "Index(['city', 'city_ascii', 'lat', 'lng', 'pop', 'country', 'iso2', 'iso3',\n",
       "       'province'],\n",
       "      dtype='object')"
      ]
     },
     "execution_count": 81,
     "metadata": {},
     "output_type": "execute_result"
    }
   ],
   "source": [
    "cities_df.columns"
   ]
  },
  {
   "cell_type": "code",
   "execution_count": null,
   "metadata": {},
   "outputs": [],
   "source": []
  },
  {
   "cell_type": "code",
   "execution_count": 82,
   "metadata": {},
   "outputs": [
    {
     "data": {
      "text/html": [
       "<div>\n",
       "<style>\n",
       "    .dataframe thead tr:only-child th {\n",
       "        text-align: right;\n",
       "    }\n",
       "\n",
       "    .dataframe thead th {\n",
       "        text-align: left;\n",
       "    }\n",
       "\n",
       "    .dataframe tbody tr th {\n",
       "        vertical-align: top;\n",
       "    }\n",
       "</style>\n",
       "<table border=\"1\" class=\"dataframe\">\n",
       "  <thead>\n",
       "    <tr style=\"text-align: right;\">\n",
       "      <th></th>\n",
       "      <th>city</th>\n",
       "      <th>lat</th>\n",
       "      <th>lng</th>\n",
       "      <th>country</th>\n",
       "    </tr>\n",
       "  </thead>\n",
       "  <tbody>\n",
       "    <tr>\n",
       "      <th>0</th>\n",
       "      <td>Anaco</td>\n",
       "      <td>9.440004</td>\n",
       "      <td>-64.460004</td>\n",
       "      <td>Venezuela</td>\n",
       "    </tr>\n",
       "    <tr>\n",
       "      <th>1</th>\n",
       "      <td>Praia</td>\n",
       "      <td>14.916698</td>\n",
       "      <td>-23.516689</td>\n",
       "      <td>Cape Verde</td>\n",
       "    </tr>\n",
       "    <tr>\n",
       "      <th>2</th>\n",
       "      <td>Cherkessk</td>\n",
       "      <td>44.290409</td>\n",
       "      <td>42.060006</td>\n",
       "      <td>Russia</td>\n",
       "    </tr>\n",
       "    <tr>\n",
       "      <th>3</th>\n",
       "      <td>Koutiala</td>\n",
       "      <td>12.390418</td>\n",
       "      <td>-5.469987</td>\n",
       "      <td>Mali</td>\n",
       "    </tr>\n",
       "    <tr>\n",
       "      <th>4</th>\n",
       "      <td>Houma</td>\n",
       "      <td>35.619982</td>\n",
       "      <td>111.209997</td>\n",
       "      <td>China</td>\n",
       "    </tr>\n",
       "  </tbody>\n",
       "</table>\n",
       "</div>"
      ],
      "text/plain": [
       "        city        lat         lng     country\n",
       "0      Anaco   9.440004  -64.460004   Venezuela\n",
       "1      Praia  14.916698  -23.516689  Cape Verde\n",
       "2  Cherkessk  44.290409   42.060006      Russia\n",
       "3   Koutiala  12.390418   -5.469987        Mali\n",
       "4      Houma  35.619982  111.209997       China"
      ]
     },
     "execution_count": 82,
     "metadata": {},
     "output_type": "execute_result"
    }
   ],
   "source": [
    "cities_reduced_df = cities_df[['city','lat', 'lng', 'country']]\n",
    "#cities_reduced_df.head()\n",
    "cities_df = cities_reduced_df\n",
    "cities_df.head()"
   ]
  },
  {
   "cell_type": "code",
   "execution_count": null,
   "metadata": {
    "collapsed": true
   },
   "outputs": [],
   "source": []
  },
  {
   "cell_type": "code",
   "execution_count": 83,
   "metadata": {},
   "outputs": [
    {
     "data": {
      "text/html": [
       "<div>\n",
       "<style>\n",
       "    .dataframe thead tr:only-child th {\n",
       "        text-align: right;\n",
       "    }\n",
       "\n",
       "    .dataframe thead th {\n",
       "        text-align: left;\n",
       "    }\n",
       "\n",
       "    .dataframe tbody tr th {\n",
       "        vertical-align: top;\n",
       "    }\n",
       "</style>\n",
       "<table border=\"1\" class=\"dataframe\">\n",
       "  <thead>\n",
       "    <tr style=\"text-align: right;\">\n",
       "      <th></th>\n",
       "      <th>city</th>\n",
       "      <th>lat</th>\n",
       "      <th>lng</th>\n",
       "      <th>country</th>\n",
       "      <th>Temperature (F)</th>\n",
       "      <th>Cloudiness %</th>\n",
       "      <th>Wind Speed (mph)</th>\n",
       "      <th>Humidity %</th>\n",
       "    </tr>\n",
       "  </thead>\n",
       "  <tbody>\n",
       "    <tr>\n",
       "      <th>0</th>\n",
       "      <td>Anaco</td>\n",
       "      <td>9.440004</td>\n",
       "      <td>-64.460004</td>\n",
       "      <td>Venezuela</td>\n",
       "      <td></td>\n",
       "      <td></td>\n",
       "      <td></td>\n",
       "      <td></td>\n",
       "    </tr>\n",
       "    <tr>\n",
       "      <th>1</th>\n",
       "      <td>Praia</td>\n",
       "      <td>14.916698</td>\n",
       "      <td>-23.516689</td>\n",
       "      <td>Cape Verde</td>\n",
       "      <td></td>\n",
       "      <td></td>\n",
       "      <td></td>\n",
       "      <td></td>\n",
       "    </tr>\n",
       "    <tr>\n",
       "      <th>2</th>\n",
       "      <td>Cherkessk</td>\n",
       "      <td>44.290409</td>\n",
       "      <td>42.060006</td>\n",
       "      <td>Russia</td>\n",
       "      <td></td>\n",
       "      <td></td>\n",
       "      <td></td>\n",
       "      <td></td>\n",
       "    </tr>\n",
       "    <tr>\n",
       "      <th>3</th>\n",
       "      <td>Koutiala</td>\n",
       "      <td>12.390418</td>\n",
       "      <td>-5.469987</td>\n",
       "      <td>Mali</td>\n",
       "      <td></td>\n",
       "      <td></td>\n",
       "      <td></td>\n",
       "      <td></td>\n",
       "    </tr>\n",
       "    <tr>\n",
       "      <th>4</th>\n",
       "      <td>Houma</td>\n",
       "      <td>35.619982</td>\n",
       "      <td>111.209997</td>\n",
       "      <td>China</td>\n",
       "      <td></td>\n",
       "      <td></td>\n",
       "      <td></td>\n",
       "      <td></td>\n",
       "    </tr>\n",
       "  </tbody>\n",
       "</table>\n",
       "</div>"
      ],
      "text/plain": [
       "        city        lat         lng     country Temperature (F) Cloudiness %  \\\n",
       "0      Anaco   9.440004  -64.460004   Venezuela                                \n",
       "1      Praia  14.916698  -23.516689  Cape Verde                                \n",
       "2  Cherkessk  44.290409   42.060006      Russia                                \n",
       "3   Koutiala  12.390418   -5.469987        Mali                                \n",
       "4      Houma  35.619982  111.209997       China                                \n",
       "\n",
       "  Wind Speed (mph) Humidity %  \n",
       "0                              \n",
       "1                              \n",
       "2                              \n",
       "3                              \n",
       "4                              "
      ]
     },
     "execution_count": 83,
     "metadata": {},
     "output_type": "execute_result"
    }
   ],
   "source": [
    "#Add empty columns to df \n",
    "cities_df[\"Temperature (F)\"] = \"\"\n",
    "cities_df[\"Cloudiness %\"] = \"\"\n",
    "cities_df[\"Wind Speed (mph)\"] = \"\"\n",
    "cities_df[\"Humidity %\"] = \"\"\n",
    "cities_df.head()"
   ]
  },
  {
   "cell_type": "code",
   "execution_count": 84,
   "metadata": {},
   "outputs": [
    {
     "data": {
      "text/plain": [
       "500"
      ]
     },
     "execution_count": 84,
     "metadata": {},
     "output_type": "execute_result"
    }
   ],
   "source": [
    "len(cities_df)\n"
   ]
  },
  {
   "cell_type": "code",
   "execution_count": null,
   "metadata": {
    "collapsed": true
   },
   "outputs": [],
   "source": []
  },
  {
   "cell_type": "code",
   "execution_count": 85,
   "metadata": {},
   "outputs": [
    {
     "name": "stdout",
     "output_type": "stream",
     "text": [
      "http://api.openweathermap.org/data/2.5/weather?appid=04c02a0d186c77daef20ed362336588c&units=imperial&q=\n"
     ]
    }
   ],
   "source": [
    "# Save config information.\n",
    "url = \"http://api.openweathermap.org/data/2.5/weather?\"\n",
    "units = \"imperial\"\n",
    "\n",
    "# Build partial query URL\n",
    "query_url = f\"{url}appid={wkey}&units={units}&q=\"\n",
    "print(query_url)"
   ]
  },
  {
   "cell_type": "code",
   "execution_count": null,
   "metadata": {},
   "outputs": [],
   "source": []
  },
  {
   "cell_type": "code",
   "execution_count": 86,
   "metadata": {},
   "outputs": [
    {
     "name": "stdout",
     "output_type": "stream",
     "text": [
      "['Anaco', 'Praia', 'Cherkessk', 'Koutiala', 'Houma', 'Rochester', 'Bage', 'Piatra-Neamt', 'Sassari', 'Agadez', 'Gera', 'Gafsa', 'Zhezqazghan', 'Drobeta-Turnu Severin', 'Uroteppa', 'Schenectady', 'Hailun', 'Trento', 'Boulder', 'Segou', 'Bandundu', 'Male', 'Shizuishan', 'Dong Hoi', 'Mzuzu', 'As Salt', 'Kandy', 'Kecskemet', 'Nakhon Sawan', 'Riohacha', 'Port-Gentil', 'Zhijiang', 'Sullana', 'Larache', 'Visalia', 'Nabeul', 'Gharyan', 'San Nicolas', 'Niagara Falls', 'Lysychansk', 'Trois-Rivières', 'Shuangcheng', 'Zarzis', 'Puerto Plata', 'Panevežys', 'My Tho', 'Guarapuava', 'Takaoka', 'Tengchong', 'Tay Ninh', 'Braganca Paulista', 'Kashmar', 'Hathras', 'Al Marj', 'Nema', 'Albacete', 'Bremerhaven', 'Ibarra', 'Namibe', 'Kalamazoo', 'Baydhabo', 'Orekhovo-Zuevo', 'Kolomna', 'Abohar', 'Gottingen', 'Kumba', 'Kadugli', 'Concordia', 'Fort Pierce', 'Bratsk', 'Kerch', 'Nevinnomyssk', 'Souk Ahras', 'Lafayette', 'Ras al Khaymah', 'El Manaqil', 'Hancheng', 'Dawei', 'Arnhem', 'Jieshou', 'Perugia', 'Massawa', 'Tottori', 'Waco', 'Man', 'Bridgetown', 'Pensacola', 'Dali', 'Ambala', 'Willemstad', 'Ilam', 'Puerto Princesa', 'Keren', 'Palangkaraya', 'Gyeongju', 'Cedar Rapids', 'Battambang', 'Salinas', 'Myingyan', 'Kimberley', 'Sibiu', 'El Arish', 'Xapeco', 'Kanchipuram', 'Konibodom', 'Rijeka', 'Lakeville', 'Baranavichy', 'Cuddalore', 'Coquimbo', 'Novocherkassk', 'Paarl', 'Potosi', 'Pizen', 'Geneina', 'Abakan', 'Jalal Abad', 'Cork', 'Oldenburg', 'Luzern', 'Caserta', 'Cartagena', 'Zhaodong', 'Sinuiju', 'Lhasa', 'Taza', 'Melbourne', 'Zhuanghe', 'Tebessa', 'Bida', 'Saida', 'Burgas', 'Salatiga', 'Yuzhno Sakhalinsk', 'Cachoeiro de Itapemirim', 'Turku', 'Fianarantsoa', 'Bayamo', 'Rio Claro', 'Salzburg', 'Arica', 'Boma', 'Mallawi', 'La Paz', 'Aydin', 'Divinopolis', 'Bahraich', 'Biratnagar', 'Pinrang', 'Shibin el Kom', 'Padangsidempuan', 'Puerto Vallarta', 'Norwich', 'Takapuna', 'Arar', 'Gusau', 'Nancy', 'Bahir Dar', 'Hotan', 'Tours', 'Ninde', 'Dhamar', 'Beipiao', 'Bila Tserkva', 'Tebingtinggi', 'Da Lat', 'Saskatoon', 'Al Mukalla', 'Youngstown', 'Santander', 'Gurgaon', 'Starsy Oskol', 'Dindigul', 'Barisal', 'Mossoro', 'Monywa', 'Shakhty', 'Chattanooga', 'Toamasina', 'Lancaster', 'Kremenchuk', 'Miskolc', 'Al Fallujah', 'Matadi', 'Braila', 'Mubi', 'Palmas', 'Chuncheon', 'Wuhai', 'Thanjavur', 'Sterlitamak', 'Cabanatuan', 'Saint-Etienne', 'Lubeck', 'Shreveport', 'Karnal', 'Taiping', 'Little Rock', 'Ogden', 'Cagliari', 'Nukus', 'Nis', 'Provo', 'Los Mochis', 'Saidpur', 'Tacloban', 'Ibb', 'Shimonoseki', 'Sylhet', 'Winston-Salem', 'Orizaba', 'Plymouth', 'Sincelejo', 'Maseru', 'Chimoio', 'Prokopyevsk', 'Hapur', 'Nam Dinh', 'Jessore', 'Lincoln', 'Thu Dau Mot', 'Varna', 'Mbale', 'Kashan', 'Balikesir', 'Dire Dawa', 'Sonipat', 'Suihua', 'Xichang', 'Chuxiong', 'Kostroma', 'Durham', 'Popayan', 'Coatzacoalcos', 'Aqtobe', 'Bago', 'Windsor', 'Reno', 'Cherepovets', 'Tirupati', 'Victoria', 'Qoqon', 'Murmansk', 'Ciudad Victoria', 'Aizawl', 'Setif', 'Dayr az Zawr', 'Anapolis', 'Santa Cruz de Tenerife', 'Bukhara', 'Ljubljana', 'Springfield', 'Cumana', 'Sagar', 'Bialystok', 'Porto Velho', 'Halifax', 'Chita', 'Jember', 'Pelotas', 'Cluj-Napoca', 'Allentown', 'Saransk', 'Pucallpa', 'Simferopol', 'Aksu', 'Sunderland', 'Sikar', 'Maringa', 'Legazpi', 'Cabimas', 'Brighton', 'Camaguey', 'Taubate', 'Belgorod', 'Karlsruhe', 'Batangas', 'Bukavu', 'El Obeid', 'Posadas', 'Tieling', 'Americana', 'Rajapalaiyam', 'Nha Trang', 'Villavicencio', 'Baicheng', 'Khorramabad', 'Gliwice', 'Calabar', 'Annaba', 'Tokushima', 'Sheikhu Pura', 'Barcelona', 'Mazatlan', 'Grand Rapids', 'Larkana', 'Foz do Iguacu', 'Damanhûr', 'Chengde', 'Dezhou', 'Tver', 'Izmit', 'Toledo', 'Comilla', 'Xuanhua', 'Kota Baharu', 'Bissau', 'Oceanside', 'Oaxaca', 'Qitaihe', 'Bratislava', 'Pasay City', 'Oshogbo', 'Bandar-e-Abbas', 'Santa Marta', 'Ivanovo', 'Freetown', 'Hisar', 'An Nasiriyah', 'Likasi', 'Macapá', 'San Juan', 'Hamah', 'Yichun', 'Manado', 'Bello', 'Kirov', 'Naga', 'Kenitra', 'Zhaotang', 'Chandrapur', 'Arak', 'Butterworth', 'Davangere', 'Kashgar', 'Tuxtla Gutierrez', 'Gaza', 'Salta', 'Uberlandia', 'Shimoga', 'Port Sudan', 'Trabzon', 'Suez', 'Puerto la Cruz', 'Tabuk', 'Ryazan', 'Braga', 'Pereira', 'Siliguri', 'Jincheng', 'St. Petersburg', 'Makhachkala', 'Rasht', 'Richmond', 'Dresden', 'Ajmer', 'Mar del Plata', 'Kerman', 'Nottingham', 'Florianopolis', 'Voronezh', 'Ulyanovsk', 'Tongliao', 'Shihezi', 'Icel', 'Prague', 'Blantyre', 'Vladivostok', 'Chiclayo', 'Thessaloniki', 'Ogbomosho', 'Hamhung', 'Shaoxing', 'Cardiff', 'Belgaum', 'Morelia', 'Pietermaritzburg', 'Bremen', 'Lille', 'Buffalo', 'Tianshui', 'Ipoh', 'Yinchuan', 'El Paso', 'Wuhu', 'Muscat', 'Providence', 'Acapulco', 'Enugu', 'Islamabad', 'Yingkow', 'Huzhou', 'Ansan', 'Sao Jose dos Campos', 'Culiacan', 'Ilorin', 'Antalya', 'Qingyuan', 'New Haven', 'Cotonou', 'Bengbu', 'Vila Velha', 'Vila Velha', 'Chihuahua', 'Dandong', 'Okayama', 'Zaria', 'Kraków', 'Montevideo', 'Djibouti', 'Palermo', 'Yiyang', 'Porto', 'Bhubaneshwar', 'Mendoza', 'Merida', 'Nova Iguacu', 'Odessa', 'Tiruchirappalli', 'Basra', 'Qinhuangdao', 'Lupanshui', 'Amsterdam', 'Hamamatsu', 'Hengyang', 'Hims', 'Monrovia', 'Shangrao', 'Perm', 'Baoshan', 'Florence', 'Da Nang', 'Lyon', 'Daqing', 'Sharjah', 'Mudangiang', 'Kansas City', 'Jamshedpur', 'Barquisimeto', 'Changde', 'Columbus', 'Medina', 'Kazan', 'Srinagar', 'Mbuji-Mayi', 'Yerevan', 'Nanyang', 'Lome', 'Xianyang', 'Nizhny Novgorod', 'Manchester', 'Tainan', 'Coimbatore', 'Asansol', 'Brisbane', 'Bamako', 'Luan', 'Karaj', 'Liuzhou', 'Pittsburgh', 'Kalyan', 'Vadodara', 'Palembang', 'Haikou', 'Wenzhou', 'Birmingham', 'Xuzhou', 'Warsaw', 'Hefei', 'Tangshan', 'Denver', 'Jilin', 'Aleppo', 'Mashhad', 'Jinan', 'Phoenix', 'Hangzhou', 'Damascus', 'Detroit', 'Incheon', 'Faisalabad', 'Lucknow', 'Durban', 'Changchun', 'Nairobi', 'Pyongyang', 'Hanoi', 'Addis Ababa', 'Dallas', 'St. Petersburg', 'Toronto', 'Lagos', 'Baghdad', 'Chongqing', 'Bangkok', 'Manila', 'Kolkata', 'Istanbul', 'Delhi', 'Tokyo']\n"
     ]
    }
   ],
   "source": [
    "cityList = cities_df['city'].tolist()\n",
    "print(cityList)"
   ]
  },
  {
   "cell_type": "code",
   "execution_count": 87,
   "metadata": {
    "scrolled": false
   },
   "outputs": [
    {
     "name": "stdout",
     "output_type": "stream",
     "text": [
      "http://api.openweathermap.org/data/2.5/weather?appid=04c02a0d186c77daef20ed362336588c&units=imperial&q=London\n",
      "{'base': 'stations',\n",
      " 'clouds': {'all': 90},\n",
      " 'cod': 200,\n",
      " 'coord': {'lat': 51.51, 'lon': -0.13},\n",
      " 'dt': 1522129800,\n",
      " 'id': 2643743,\n",
      " 'main': {'humidity': 81,\n",
      "          'pressure': 1008,\n",
      "          'temp': 40.84,\n",
      "          'temp_max': 42.8,\n",
      "          'temp_min': 39.2},\n",
      " 'name': 'London',\n",
      " 'sys': {'country': 'GB',\n",
      "         'id': 5091,\n",
      "         'message': 0.1664,\n",
      "         'sunrise': 1522129618,\n",
      "         'sunset': 1522175139,\n",
      "         'type': 1},\n",
      " 'visibility': 6000,\n",
      " 'weather': [{'description': 'moderate rain',\n",
      "              'icon': '10d',\n",
      "              'id': 501,\n",
      "              'main': 'Rain'},\n",
      "             {'description': 'mist', 'icon': '50d', 'id': 701, 'main': 'Mist'},\n",
      "             {'description': 'light intensity drizzle rain',\n",
      "              'icon': '09d',\n",
      "              'id': 310,\n",
      "              'main': 'Drizzle'}],\n",
      " 'wind': {'deg': 140, 'speed': 10.29}}\n"
     ]
    }
   ],
   "source": [
    "#test request.get\n",
    "response = requests.get(query_url + \"London\")\n",
    "print(response.url)\n",
    "\n",
    "response = requests.get(query_url + \"London\").json()\n",
    "\n",
    "pprint (response)"
   ]
  },
  {
   "cell_type": "code",
   "execution_count": null,
   "metadata": {
    "collapsed": true
   },
   "outputs": [],
   "source": []
  },
  {
   "cell_type": "code",
   "execution_count": 88,
   "metadata": {
    "scrolled": true
   },
   "outputs": [
    {
     "name": "stdout",
     "output_type": "stream",
     "text": [
      "{'cod': '404', 'message': 'city not found'}\n",
      "{'cod': '404', 'message': 'city not found'}\n",
      "{'cod': '404', 'message': 'city not found'}\n",
      "{'cod': '404', 'message': 'city not found'}\n",
      "{'cod': '404', 'message': 'city not found'}\n",
      "{'cod': '404', 'message': 'city not found'}\n",
      "{'cod': '404', 'message': 'city not found'}\n",
      "{'cod': '404', 'message': 'city not found'}\n",
      "{'cod': '404', 'message': 'city not found'}\n",
      "{'cod': '404', 'message': 'city not found'}\n",
      "{'cod': '404', 'message': 'city not found'}\n",
      "{'cod': '404', 'message': 'city not found'}\n",
      "{'cod': '404', 'message': 'city not found'}\n",
      "{'cod': '404', 'message': 'city not found'}\n",
      "{'cod': '404', 'message': 'city not found'}\n",
      "{'cod': '404', 'message': 'city not found'}\n",
      "{'cod': '404', 'message': 'city not found'}\n",
      "{'cod': '404', 'message': 'city not found'}\n",
      "{'cod': '404', 'message': 'city not found'}\n",
      "{'cod': '404', 'message': 'city not found'}\n",
      "{'cod': '404', 'message': 'city not found'}\n",
      "{'cod': '404', 'message': 'city not found'}\n",
      "{'cod': '404', 'message': 'city not found'}\n",
      "{'cod': '404', 'message': 'city not found'}\n",
      "{'cod': '404', 'message': 'city not found'}\n",
      "{'cod': '404', 'message': 'city not found'}\n"
     ]
    }
   ],
   "source": [
    "#Want to skip missing values ahead of time so code runs more quickly - this is just for me to practice different options\n",
    "# To learn JSON respones better...\n",
    "#cityList = cities_df['city'].tolist()\n",
    "#for city in cityList:\n",
    "    #response = requests.get(query_url + str(city)).json()\n",
    "   # if (response['cod']==\"404\"):\n",
    "       # print(response)\n",
    "    \n",
    "    \n",
    "    \n",
    "   "
   ]
  },
  {
   "cell_type": "code",
   "execution_count": 76,
   "metadata": {},
   "outputs": [
    {
     "name": "stdout",
     "output_type": "stream",
     "text": [
      "http://api.openweathermap.org/data/2.5/weather?appid=04c02a0d186c77daef20ed362336588c&units=metric&q=V%C3%A4ster%C3%A5s\n",
      "http://api.openweathermap.org/data/2.5/weather?appid=04c02a0d186c77daef20ed362336588c&units=metric&q=Cherkessk\n",
      "http://api.openweathermap.org/data/2.5/weather?appid=04c02a0d186c77daef20ed362336588c&units=metric&q=Bontang\n",
      "http://api.openweathermap.org/data/2.5/weather?appid=04c02a0d186c77daef20ed362336588c&units=metric&q=Rochester\n",
      "http://api.openweathermap.org/data/2.5/weather?appid=04c02a0d186c77daef20ed362336588c&units=metric&q=Fresnillo\n",
      "http://api.openweathermap.org/data/2.5/weather?appid=04c02a0d186c77daef20ed362336588c&units=metric&q=Khiwa\n",
      "http://api.openweathermap.org/data/2.5/weather?appid=04c02a0d186c77daef20ed362336588c&units=metric&q=Sassari\n",
      "http://api.openweathermap.org/data/2.5/weather?appid=04c02a0d186c77daef20ed362336588c&units=metric&q=Biak\n",
      "http://api.openweathermap.org/data/2.5/weather?appid=04c02a0d186c77daef20ed362336588c&units=metric&q=Gera\n",
      "http://api.openweathermap.org/data/2.5/weather?appid=04c02a0d186c77daef20ed362336588c&units=metric&q=National%20City\n",
      "http://api.openweathermap.org/data/2.5/weather?appid=04c02a0d186c77daef20ed362336588c&units=metric&q=Drobeta-Turnu%20Severin\n",
      "http://api.openweathermap.org/data/2.5/weather?appid=04c02a0d186c77daef20ed362336588c&units=metric&q=Schenectady\n",
      "http://api.openweathermap.org/data/2.5/weather?appid=04c02a0d186c77daef20ed362336588c&units=metric&q=Assab\n",
      "http://api.openweathermap.org/data/2.5/weather?appid=04c02a0d186c77daef20ed362336588c&units=metric&q=Taungoo\n",
      "http://api.openweathermap.org/data/2.5/weather?appid=04c02a0d186c77daef20ed362336588c&units=metric&q=Douliou\n",
      "http://api.openweathermap.org/data/2.5/weather?appid=04c02a0d186c77daef20ed362336588c&units=metric&q=Punta%20Arenas\n",
      "http://api.openweathermap.org/data/2.5/weather?appid=04c02a0d186c77daef20ed362336588c&units=metric&q=Malanje\n",
      "http://api.openweathermap.org/data/2.5/weather?appid=04c02a0d186c77daef20ed362336588c&units=metric&q=Bataysk\n",
      "http://api.openweathermap.org/data/2.5/weather?appid=04c02a0d186c77daef20ed362336588c&units=metric&q=Melilla\n",
      "http://api.openweathermap.org/data/2.5/weather?appid=04c02a0d186c77daef20ed362336588c&units=metric&q=Tarragona\n",
      "http://api.openweathermap.org/data/2.5/weather?appid=04c02a0d186c77daef20ed362336588c&units=metric&q=Bandundu\n",
      "http://api.openweathermap.org/data/2.5/weather?appid=04c02a0d186c77daef20ed362336588c&units=metric&q=Mascara\n",
      "http://api.openweathermap.org/data/2.5/weather?appid=04c02a0d186c77daef20ed362336588c&units=metric&q=Laghouat\n",
      "http://api.openweathermap.org/data/2.5/weather?appid=04c02a0d186c77daef20ed362336588c&units=metric&q=Vryheid\n",
      "http://api.openweathermap.org/data/2.5/weather?appid=04c02a0d186c77daef20ed362336588c&units=metric&q=Phuket\n",
      "http://api.openweathermap.org/data/2.5/weather?appid=04c02a0d186c77daef20ed362336588c&units=metric&q=Daugavpils\n",
      "http://api.openweathermap.org/data/2.5/weather?appid=04c02a0d186c77daef20ed362336588c&units=metric&q=Dong%20Hoi\n",
      "http://api.openweathermap.org/data/2.5/weather?appid=04c02a0d186c77daef20ed362336588c&units=metric&q=As%20Salt\n",
      "http://api.openweathermap.org/data/2.5/weather?appid=04c02a0d186c77daef20ed362336588c&units=metric&q=Nsukka\n",
      "http://api.openweathermap.org/data/2.5/weather?appid=04c02a0d186c77daef20ed362336588c&units=metric&q=Fasa\n",
      "http://api.openweathermap.org/data/2.5/weather?appid=04c02a0d186c77daef20ed362336588c&units=metric&q=Kecskemet\n",
      "http://api.openweathermap.org/data/2.5/weather?appid=04c02a0d186c77daef20ed362336588c&units=metric&q=Juba\n",
      "http://api.openweathermap.org/data/2.5/weather?appid=04c02a0d186c77daef20ed362336588c&units=metric&q=Nefteyugansk\n",
      "http://api.openweathermap.org/data/2.5/weather?appid=04c02a0d186c77daef20ed362336588c&units=metric&q=Siirt\n",
      "http://api.openweathermap.org/data/2.5/weather?appid=04c02a0d186c77daef20ed362336588c&units=metric&q=Girga\n",
      "http://api.openweathermap.org/data/2.5/weather?appid=04c02a0d186c77daef20ed362336588c&units=metric&q=Gharyan\n",
      "http://api.openweathermap.org/data/2.5/weather?appid=04c02a0d186c77daef20ed362336588c&units=metric&q=Wilmington\n",
      "http://api.openweathermap.org/data/2.5/weather?appid=04c02a0d186c77daef20ed362336588c&units=metric&q=Port%20Blair\n",
      "http://api.openweathermap.org/data/2.5/weather?appid=04c02a0d186c77daef20ed362336588c&units=metric&q=Nusaybin\n",
      "http://api.openweathermap.org/data/2.5/weather?appid=04c02a0d186c77daef20ed362336588c&units=metric&q=Yala\n",
      "http://api.openweathermap.org/data/2.5/weather?appid=04c02a0d186c77daef20ed362336588c&units=metric&q=Samalut\n",
      "http://api.openweathermap.org/data/2.5/weather?appid=04c02a0d186c77daef20ed362336588c&units=metric&q=Erzincan\n",
      "http://api.openweathermap.org/data/2.5/weather?appid=04c02a0d186c77daef20ed362336588c&units=metric&q=Loja\n",
      "http://api.openweathermap.org/data/2.5/weather?appid=04c02a0d186c77daef20ed362336588c&units=metric&q=Ash%20Shatrah\n",
      "http://api.openweathermap.org/data/2.5/weather?appid=04c02a0d186c77daef20ed362336588c&units=metric&q=Ciego%20de%20Avila\n",
      "http://api.openweathermap.org/data/2.5/weather?appid=04c02a0d186c77daef20ed362336588c&units=metric&q=Maastricht\n",
      "http://api.openweathermap.org/data/2.5/weather?appid=04c02a0d186c77daef20ed362336588c&units=metric&q=Yulin\n",
      "http://api.openweathermap.org/data/2.5/weather?appid=04c02a0d186c77daef20ed362336588c&units=metric&q=Pindamonhangaba\n",
      "http://api.openweathermap.org/data/2.5/weather?appid=04c02a0d186c77daef20ed362336588c&units=metric&q=Besancon\n",
      "http://api.openweathermap.org/data/2.5/weather?appid=04c02a0d186c77daef20ed362336588c&units=metric&q=Gilgit\n",
      "http://api.openweathermap.org/data/2.5/weather?appid=04c02a0d186c77daef20ed362336588c&units=metric&q=Shahrud\n",
      "http://api.openweathermap.org/data/2.5/weather?appid=04c02a0d186c77daef20ed362336588c&units=metric&q=Gonaives\n",
      "http://api.openweathermap.org/data/2.5/weather?appid=04c02a0d186c77daef20ed362336588c&units=metric&q=Tay%20Ninh\n",
      "http://api.openweathermap.org/data/2.5/weather?appid=04c02a0d186c77daef20ed362336588c&units=metric&q=Kokshetau\n",
      "http://api.openweathermap.org/data/2.5/weather?appid=04c02a0d186c77daef20ed362336588c&units=metric&q=Pervouralsk\n",
      "http://api.openweathermap.org/data/2.5/weather?appid=04c02a0d186c77daef20ed362336588c&units=metric&q=Alexandria\n",
      "http://api.openweathermap.org/data/2.5/weather?appid=04c02a0d186c77daef20ed362336588c&units=metric&q=Alipur%20Duar\n",
      "http://api.openweathermap.org/data/2.5/weather?appid=04c02a0d186c77daef20ed362336588c&units=metric&q=Entebbe\n",
      "http://api.openweathermap.org/data/2.5/weather?appid=04c02a0d186c77daef20ed362336588c&units=metric&q=Al%20Marj\n",
      "http://api.openweathermap.org/data/2.5/weather?appid=04c02a0d186c77daef20ed362336588c&units=metric&q=Xai-Xai\n",
      "http://api.openweathermap.org/data/2.5/weather?appid=04c02a0d186c77daef20ed362336588c&units=metric&q=Jima\n",
      "http://api.openweathermap.org/data/2.5/weather?appid=04c02a0d186c77daef20ed362336588c&units=metric&q=Quchan\n",
      "http://api.openweathermap.org/data/2.5/weather?appid=04c02a0d186c77daef20ed362336588c&units=metric&q=Treviso\n",
      "http://api.openweathermap.org/data/2.5/weather?appid=04c02a0d186c77daef20ed362336588c&units=metric&q=Kolomna\n",
      "http://api.openweathermap.org/data/2.5/weather?appid=04c02a0d186c77daef20ed362336588c&units=metric&q=Uppsala\n",
      "http://api.openweathermap.org/data/2.5/weather?appid=04c02a0d186c77daef20ed362336588c&units=metric&q=Pilibhit\n",
      "http://api.openweathermap.org/data/2.5/weather?appid=04c02a0d186c77daef20ed362336588c&units=metric&q=Kumba\n",
      "http://api.openweathermap.org/data/2.5/weather?appid=04c02a0d186c77daef20ed362336588c&units=metric&q=Oulu\n",
      "http://api.openweathermap.org/data/2.5/weather?appid=04c02a0d186c77daef20ed362336588c&units=metric&q=Awasa\n",
      "http://api.openweathermap.org/data/2.5/weather?appid=04c02a0d186c77daef20ed362336588c&units=metric&q=Phitsanulok\n",
      "http://api.openweathermap.org/data/2.5/weather?appid=04c02a0d186c77daef20ed362336588c&units=metric&q=Bratsk\n",
      "http://api.openweathermap.org/data/2.5/weather?appid=04c02a0d186c77daef20ed362336588c&units=metric&q=Caxias\n",
      "http://api.openweathermap.org/data/2.5/weather?appid=04c02a0d186c77daef20ed362336588c&units=metric&q=Saida\n",
      "http://api.openweathermap.org/data/2.5/weather?appid=04c02a0d186c77daef20ed362336588c&units=metric&q=Souk%20Ahras\n",
      "http://api.openweathermap.org/data/2.5/weather?appid=04c02a0d186c77daef20ed362336588c&units=metric&q=Lafayette\n"
     ]
    },
    {
     "name": "stdout",
     "output_type": "stream",
     "text": [
      "http://api.openweathermap.org/data/2.5/weather?appid=04c02a0d186c77daef20ed362336588c&units=metric&q=Melitopol\n",
      "http://api.openweathermap.org/data/2.5/weather?appid=04c02a0d186c77daef20ed362336588c&units=metric&q=Sarh\n",
      "http://api.openweathermap.org/data/2.5/weather?appid=04c02a0d186c77daef20ed362336588c&units=metric&q=Bata\n",
      "http://api.openweathermap.org/data/2.5/weather?appid=04c02a0d186c77daef20ed362336588c&units=metric&q=Nizhenvartovsk\n",
      "http://api.openweathermap.org/data/2.5/weather?appid=04c02a0d186c77daef20ed362336588c&units=metric&q=Tiraspol\n",
      "http://api.openweathermap.org/data/2.5/weather?appid=04c02a0d186c77daef20ed362336588c&units=metric&q=Chincha%20Alta\n",
      "http://api.openweathermap.org/data/2.5/weather?appid=04c02a0d186c77daef20ed362336588c&units=metric&q=San%20Francisco%20de%20Macoris\n",
      "http://api.openweathermap.org/data/2.5/weather?appid=04c02a0d186c77daef20ed362336588c&units=metric&q=Cajamarca\n",
      "http://api.openweathermap.org/data/2.5/weather?appid=04c02a0d186c77daef20ed362336588c&units=metric&q=Cape%20Coast\n",
      "http://api.openweathermap.org/data/2.5/weather?appid=04c02a0d186c77daef20ed362336588c&units=metric&q=Altay\n",
      "http://api.openweathermap.org/data/2.5/weather?appid=04c02a0d186c77daef20ed362336588c&units=metric&q=Mbanza-Ngungu\n",
      "http://api.openweathermap.org/data/2.5/weather?appid=04c02a0d186c77daef20ed362336588c&units=metric&q=Benguela\n",
      "http://api.openweathermap.org/data/2.5/weather?appid=04c02a0d186c77daef20ed362336588c&units=metric&q=Taitung\n",
      "http://api.openweathermap.org/data/2.5/weather?appid=04c02a0d186c77daef20ed362336588c&units=metric&q=Surat%20Thani\n",
      "http://api.openweathermap.org/data/2.5/weather?appid=04c02a0d186c77daef20ed362336588c&units=metric&q=Maykop\n",
      "http://api.openweathermap.org/data/2.5/weather?appid=04c02a0d186c77daef20ed362336588c&units=metric&q=Tuzla\n",
      "http://api.openweathermap.org/data/2.5/weather?appid=04c02a0d186c77daef20ed362336588c&units=metric&q=Kafr%20el%20Sheikh\n",
      "http://api.openweathermap.org/data/2.5/weather?appid=04c02a0d186c77daef20ed362336588c&units=metric&q=Tizi-Ouzou\n",
      "http://api.openweathermap.org/data/2.5/weather?appid=04c02a0d186c77daef20ed362336588c&units=metric&q=Goma\n",
      "http://api.openweathermap.org/data/2.5/weather?appid=04c02a0d186c77daef20ed362336588c&units=metric&q=Gulu\n",
      "http://api.openweathermap.org/data/2.5/weather?appid=04c02a0d186c77daef20ed362336588c&units=metric&q=Waukegan\n",
      "http://api.openweathermap.org/data/2.5/weather?appid=04c02a0d186c77daef20ed362336588c&units=metric&q=Osorno\n",
      "http://api.openweathermap.org/data/2.5/weather?appid=04c02a0d186c77daef20ed362336588c&units=metric&q=Dali\n",
      "http://api.openweathermap.org/data/2.5/weather?appid=04c02a0d186c77daef20ed362336588c&units=metric&q=Rondonopolis\n",
      "http://api.openweathermap.org/data/2.5/weather?appid=04c02a0d186c77daef20ed362336588c&units=metric&q=La%20Rioja\n",
      "http://api.openweathermap.org/data/2.5/weather?appid=04c02a0d186c77daef20ed362336588c&units=metric&q=Jijel\n",
      "http://api.openweathermap.org/data/2.5/weather?appid=04c02a0d186c77daef20ed362336588c&units=metric&q=Tirgu%20Mures\n",
      "http://api.openweathermap.org/data/2.5/weather?appid=04c02a0d186c77daef20ed362336588c&units=metric&q=Sobral\n",
      "http://api.openweathermap.org/data/2.5/weather?appid=04c02a0d186c77daef20ed362336588c&units=metric&q=Geelong\n",
      "http://api.openweathermap.org/data/2.5/weather?appid=04c02a0d186c77daef20ed362336588c&units=metric&q=Lemosos\n",
      "http://api.openweathermap.org/data/2.5/weather?appid=04c02a0d186c77daef20ed362336588c&units=metric&q=Dundee\n",
      "http://api.openweathermap.org/data/2.5/weather?appid=04c02a0d186c77daef20ed362336588c&units=metric&q=Jayapura\n",
      "http://api.openweathermap.org/data/2.5/weather?appid=04c02a0d186c77daef20ed362336588c&units=metric&q=Marbella\n",
      "http://api.openweathermap.org/data/2.5/weather?appid=04c02a0d186c77daef20ed362336588c&units=metric&q=Kattaqorgon\n",
      "http://api.openweathermap.org/data/2.5/weather?appid=04c02a0d186c77daef20ed362336588c&units=metric&q=El%20Arish\n",
      "http://api.openweathermap.org/data/2.5/weather?appid=04c02a0d186c77daef20ed362336588c&units=metric&q=Moanda\n",
      "http://api.openweathermap.org/data/2.5/weather?appid=04c02a0d186c77daef20ed362336588c&units=metric&q=San%20Cristobal\n",
      "http://api.openweathermap.org/data/2.5/weather?appid=04c02a0d186c77daef20ed362336588c&units=metric&q=Kanchipuram\n",
      "http://api.openweathermap.org/data/2.5/weather?appid=04c02a0d186c77daef20ed362336588c&units=metric&q=Gonder\n",
      "http://api.openweathermap.org/data/2.5/weather?appid=04c02a0d186c77daef20ed362336588c&units=metric&q=Savannah\n",
      "http://api.openweathermap.org/data/2.5/weather?appid=04c02a0d186c77daef20ed362336588c&units=metric&q=Ponce\n",
      "http://api.openweathermap.org/data/2.5/weather?appid=04c02a0d186c77daef20ed362336588c&units=metric&q=Baranavichy\n",
      "http://api.openweathermap.org/data/2.5/weather?appid=04c02a0d186c77daef20ed362336588c&units=metric&q=Hinthada\n",
      "http://api.openweathermap.org/data/2.5/weather?appid=04c02a0d186c77daef20ed362336588c&units=metric&q=Termiz\n",
      "http://api.openweathermap.org/data/2.5/weather?appid=04c02a0d186c77daef20ed362336588c&units=metric&q=Rubtsovsk\n",
      "http://api.openweathermap.org/data/2.5/weather?appid=04c02a0d186c77daef20ed362336588c&units=metric&q=Mostaganem\n",
      "http://api.openweathermap.org/data/2.5/weather?appid=04c02a0d186c77daef20ed362336588c&units=metric&q=Kragujevac\n",
      "http://api.openweathermap.org/data/2.5/weather?appid=04c02a0d186c77daef20ed362336588c&units=metric&q=Dese\n",
      "http://api.openweathermap.org/data/2.5/weather?appid=04c02a0d186c77daef20ed362336588c&units=metric&q=Taunggyi\n",
      "http://api.openweathermap.org/data/2.5/weather?appid=04c02a0d186c77daef20ed362336588c&units=metric&q=Xiaogan\n",
      "http://api.openweathermap.org/data/2.5/weather?appid=04c02a0d186c77daef20ed362336588c&units=metric&q=Salamanca\n",
      "http://api.openweathermap.org/data/2.5/weather?appid=04c02a0d186c77daef20ed362336588c&units=metric&q=Bergamo\n",
      "http://api.openweathermap.org/data/2.5/weather?appid=04c02a0d186c77daef20ed362336588c&units=metric&q=Budaun\n",
      "http://api.openweathermap.org/data/2.5/weather?appid=04c02a0d186c77daef20ed362336588c&units=metric&q=Cork\n",
      "http://api.openweathermap.org/data/2.5/weather?appid=04c02a0d186c77daef20ed362336588c&units=metric&q=Oldenburg\n",
      "http://api.openweathermap.org/data/2.5/weather?appid=04c02a0d186c77daef20ed362336588c&units=metric&q=Luzern\n",
      "http://api.openweathermap.org/data/2.5/weather?appid=04c02a0d186c77daef20ed362336588c&units=metric&q=Crato\n",
      "http://api.openweathermap.org/data/2.5/weather?appid=04c02a0d186c77daef20ed362336588c&units=metric&q=Parma\n",
      "http://api.openweathermap.org/data/2.5/weather?appid=04c02a0d186c77daef20ed362336588c&units=metric&q=Serang\n",
      "http://api.openweathermap.org/data/2.5/weather?appid=04c02a0d186c77daef20ed362336588c&units=metric&q=Ceerigaabo\n",
      "http://api.openweathermap.org/data/2.5/weather?appid=04c02a0d186c77daef20ed362336588c&units=metric&q=Aracatuba\n",
      "http://api.openweathermap.org/data/2.5/weather?appid=04c02a0d186c77daef20ed362336588c&units=metric&q=Puerto%20Montt\n",
      "http://api.openweathermap.org/data/2.5/weather?appid=04c02a0d186c77daef20ed362336588c&units=metric&q=Medinipur\n",
      "http://api.openweathermap.org/data/2.5/weather?appid=04c02a0d186c77daef20ed362336588c&units=metric&q=Chirala\n",
      "http://api.openweathermap.org/data/2.5/weather?appid=04c02a0d186c77daef20ed362336588c&units=metric&q=Lobito\n",
      "http://api.openweathermap.org/data/2.5/weather?appid=04c02a0d186c77daef20ed362336588c&units=metric&q=Taza\n",
      "http://api.openweathermap.org/data/2.5/weather?appid=04c02a0d186c77daef20ed362336588c&units=metric&q=Melbourne\n",
      "http://api.openweathermap.org/data/2.5/weather?appid=04c02a0d186c77daef20ed362336588c&units=metric&q=South%20Bend\n",
      "http://api.openweathermap.org/data/2.5/weather?appid=04c02a0d186c77daef20ed362336588c&units=metric&q=Varamin\n",
      "http://api.openweathermap.org/data/2.5/weather?appid=04c02a0d186c77daef20ed362336588c&units=metric&q=Nablus\n",
      "http://api.openweathermap.org/data/2.5/weather?appid=04c02a0d186c77daef20ed362336588c&units=metric&q=Gangneung\n",
      "http://api.openweathermap.org/data/2.5/weather?appid=04c02a0d186c77daef20ed362336588c&units=metric&q=Burgas\n",
      "http://api.openweathermap.org/data/2.5/weather?appid=04c02a0d186c77daef20ed362336588c&units=metric&q=Turku\n",
      "http://api.openweathermap.org/data/2.5/weather?appid=04c02a0d186c77daef20ed362336588c&units=metric&q=Szeged\n",
      "http://api.openweathermap.org/data/2.5/weather?appid=04c02a0d186c77daef20ed362336588c&units=metric&q=Kalemie\n"
     ]
    },
    {
     "name": "stdout",
     "output_type": "stream",
     "text": [
      "http://api.openweathermap.org/data/2.5/weather?appid=04c02a0d186c77daef20ed362336588c&units=metric&q=Bayamo\n",
      "http://api.openweathermap.org/data/2.5/weather?appid=04c02a0d186c77daef20ed362336588c&units=metric&q=Arica\n",
      "http://api.openweathermap.org/data/2.5/weather?appid=04c02a0d186c77daef20ed362336588c&units=metric&q=Fort%20Collins\n",
      "http://api.openweathermap.org/data/2.5/weather?appid=04c02a0d186c77daef20ed362336588c&units=metric&q=Turpan\n",
      "http://api.openweathermap.org/data/2.5/weather?appid=04c02a0d186c77daef20ed362336588c&units=metric&q=Severodvinsk\n",
      "http://api.openweathermap.org/data/2.5/weather?appid=04c02a0d186c77daef20ed362336588c&units=metric&q=Laayoune\n",
      "http://api.openweathermap.org/data/2.5/weather?appid=04c02a0d186c77daef20ed362336588c&units=metric&q=Petropavlovsk%20Kamchatskiy\n",
      "http://api.openweathermap.org/data/2.5/weather?appid=04c02a0d186c77daef20ed362336588c&units=metric&q=Biratnagar\n",
      "http://api.openweathermap.org/data/2.5/weather?appid=04c02a0d186c77daef20ed362336588c&units=metric&q=Pinrang\n",
      "http://api.openweathermap.org/data/2.5/weather?appid=04c02a0d186c77daef20ed362336588c&units=metric&q=Tema\n",
      "http://api.openweathermap.org/data/2.5/weather?appid=04c02a0d186c77daef20ed362336588c&units=metric&q=Arar\n",
      "http://api.openweathermap.org/data/2.5/weather?appid=04c02a0d186c77daef20ed362336588c&units=metric&q=Clermont-Ferrand\n",
      "http://api.openweathermap.org/data/2.5/weather?appid=04c02a0d186c77daef20ed362336588c&units=metric&q=Nancy\n",
      "http://api.openweathermap.org/data/2.5/weather?appid=04c02a0d186c77daef20ed362336588c&units=metric&q=Bac%20Lieu\n",
      "http://api.openweathermap.org/data/2.5/weather?appid=04c02a0d186c77daef20ed362336588c&units=metric&q=Valletta\n",
      "http://api.openweathermap.org/data/2.5/weather?appid=04c02a0d186c77daef20ed362336588c&units=metric&q=Proddatur\n",
      "http://api.openweathermap.org/data/2.5/weather?appid=04c02a0d186c77daef20ed362336588c&units=metric&q=Kabwe\n",
      "http://api.openweathermap.org/data/2.5/weather?appid=04c02a0d186c77daef20ed362336588c&units=metric&q=Salem\n",
      "http://api.openweathermap.org/data/2.5/weather?appid=04c02a0d186c77daef20ed362336588c&units=metric&q=Erfurt\n",
      "http://api.openweathermap.org/data/2.5/weather?appid=04c02a0d186c77daef20ed362336588c&units=metric&q=Bhiwani\n",
      "http://api.openweathermap.org/data/2.5/weather?appid=04c02a0d186c77daef20ed362336588c&units=metric&q=Dhamar\n",
      "http://api.openweathermap.org/data/2.5/weather?appid=04c02a0d186c77daef20ed362336588c&units=metric&q=Klaipeda\n",
      "http://api.openweathermap.org/data/2.5/weather?appid=04c02a0d186c77daef20ed362336588c&units=metric&q=Portoviejo\n",
      "http://api.openweathermap.org/data/2.5/weather?appid=04c02a0d186c77daef20ed362336588c&units=metric&q=Curepipe\n",
      "http://api.openweathermap.org/data/2.5/weather?appid=04c02a0d186c77daef20ed362336588c&units=metric&q=Tubruq\n",
      "http://api.openweathermap.org/data/2.5/weather?appid=04c02a0d186c77daef20ed362336588c&units=metric&q=Jizzax\n",
      "http://api.openweathermap.org/data/2.5/weather?appid=04c02a0d186c77daef20ed362336588c&units=metric&q=Youngstown\n",
      "http://api.openweathermap.org/data/2.5/weather?appid=04c02a0d186c77daef20ed362336588c&units=metric&q=Split\n",
      "http://api.openweathermap.org/data/2.5/weather?appid=04c02a0d186c77daef20ed362336588c&units=metric&q=Jinja\n",
      "http://api.openweathermap.org/data/2.5/weather?appid=04c02a0d186c77daef20ed362336588c&units=metric&q=Maradi\n",
      "http://api.openweathermap.org/data/2.5/weather?appid=04c02a0d186c77daef20ed362336588c&units=metric&q=Lansing\n",
      "http://api.openweathermap.org/data/2.5/weather?appid=04c02a0d186c77daef20ed362336588c&units=metric&q=Kindu\n",
      "http://api.openweathermap.org/data/2.5/weather?appid=04c02a0d186c77daef20ed362336588c&units=metric&q=Sidi%20bel%20Abbes\n",
      "http://api.openweathermap.org/data/2.5/weather?appid=04c02a0d186c77daef20ed362336588c&units=metric&q=Bergen\n",
      "http://api.openweathermap.org/data/2.5/weather?appid=04c02a0d186c77daef20ed362336588c&units=metric&q=Rostock\n",
      "http://api.openweathermap.org/data/2.5/weather?appid=04c02a0d186c77daef20ed362336588c&units=metric&q=Haldia\n",
      "http://api.openweathermap.org/data/2.5/weather?appid=04c02a0d186c77daef20ed362336588c&units=metric&q=Lashkar%20Gah\n",
      "http://api.openweathermap.org/data/2.5/weather?appid=04c02a0d186c77daef20ed362336588c&units=metric&q=Chiniot\n",
      "http://api.openweathermap.org/data/2.5/weather?appid=04c02a0d186c77daef20ed362336588c&units=metric&q=Barisal\n",
      "http://api.openweathermap.org/data/2.5/weather?appid=04c02a0d186c77daef20ed362336588c&units=metric&q=San-Pedro\n",
      "http://api.openweathermap.org/data/2.5/weather?appid=04c02a0d186c77daef20ed362336588c&units=metric&q=Ulanhot\n",
      "http://api.openweathermap.org/data/2.5/weather?appid=04c02a0d186c77daef20ed362336588c&units=metric&q=Campeche\n",
      "http://api.openweathermap.org/data/2.5/weather?appid=04c02a0d186c77daef20ed362336588c&units=metric&q=Monywa\n",
      "http://api.openweathermap.org/data/2.5/weather?appid=04c02a0d186c77daef20ed362336588c&units=metric&q=Shakhty\n",
      "http://api.openweathermap.org/data/2.5/weather?appid=04c02a0d186c77daef20ed362336588c&units=metric&q=Blagoveshchensk\n",
      "http://api.openweathermap.org/data/2.5/weather?appid=04c02a0d186c77daef20ed362336588c&units=metric&q=Kirikkale\n",
      "http://api.openweathermap.org/data/2.5/weather?appid=04c02a0d186c77daef20ed362336588c&units=metric&q=Thai%20Binh\n",
      "http://api.openweathermap.org/data/2.5/weather?appid=04c02a0d186c77daef20ed362336588c&units=metric&q=Oradea\n",
      "http://api.openweathermap.org/data/2.5/weather?appid=04c02a0d186c77daef20ed362336588c&units=metric&q=Kosice\n",
      "http://api.openweathermap.org/data/2.5/weather?appid=04c02a0d186c77daef20ed362336588c&units=metric&q=Springs\n",
      "http://api.openweathermap.org/data/2.5/weather?appid=04c02a0d186c77daef20ed362336588c&units=metric&q=Evanston\n",
      "http://api.openweathermap.org/data/2.5/weather?appid=04c02a0d186c77daef20ed362336588c&units=metric&q=Braila\n",
      "http://api.openweathermap.org/data/2.5/weather?appid=04c02a0d186c77daef20ed362336588c&units=metric&q=Jackson\n",
      "http://api.openweathermap.org/data/2.5/weather?appid=04c02a0d186c77daef20ed362336588c&units=metric&q=Mubi\n",
      "http://api.openweathermap.org/data/2.5/weather?appid=04c02a0d186c77daef20ed362336588c&units=metric&q=Luton\n",
      "http://api.openweathermap.org/data/2.5/weather?appid=04c02a0d186c77daef20ed362336588c&units=metric&q=Palm%20Springs\n",
      "http://api.openweathermap.org/data/2.5/weather?appid=04c02a0d186c77daef20ed362336588c&units=metric&q=Cabanatuan\n",
      "http://api.openweathermap.org/data/2.5/weather?appid=04c02a0d186c77daef20ed362336588c&units=metric&q=Butembo\n",
      "http://api.openweathermap.org/data/2.5/weather?appid=04c02a0d186c77daef20ed362336588c&units=metric&q=Neyshabur\n",
      "http://api.openweathermap.org/data/2.5/weather?appid=04c02a0d186c77daef20ed362336588c&units=metric&q=Chon%20Buri\n",
      "http://api.openweathermap.org/data/2.5/weather?appid=04c02a0d186c77daef20ed362336588c&units=metric&q=Gueckedou\n",
      "http://api.openweathermap.org/data/2.5/weather?appid=04c02a0d186c77daef20ed362336588c&units=metric&q=Juazeiro%20do%20Norte\n",
      "http://api.openweathermap.org/data/2.5/weather?appid=04c02a0d186c77daef20ed362336588c&units=metric&q=Sucre\n",
      "http://api.openweathermap.org/data/2.5/weather?appid=04c02a0d186c77daef20ed362336588c&units=metric&q=Hachinohe\n",
      "http://api.openweathermap.org/data/2.5/weather?appid=04c02a0d186c77daef20ed362336588c&units=metric&q=Petrolina\n",
      "http://api.openweathermap.org/data/2.5/weather?appid=04c02a0d186c77daef20ed362336588c&units=metric&q=Provo\n",
      "http://api.openweathermap.org/data/2.5/weather?appid=04c02a0d186c77daef20ed362336588c&units=metric&q=Angarsk\n",
      "http://api.openweathermap.org/data/2.5/weather?appid=04c02a0d186c77daef20ed362336588c&units=metric&q=Saidpur\n",
      "http://api.openweathermap.org/data/2.5/weather?appid=04c02a0d186c77daef20ed362336588c&units=metric&q=Yanbu%20al%20Bahr\n",
      "http://api.openweathermap.org/data/2.5/weather?appid=04c02a0d186c77daef20ed362336588c&units=metric&q=Santa%20Ana\n",
      "http://api.openweathermap.org/data/2.5/weather?appid=04c02a0d186c77daef20ed362336588c&units=metric&q=Shimonoseki\n",
      "http://api.openweathermap.org/data/2.5/weather?appid=04c02a0d186c77daef20ed362336588c&units=metric&q=Tegal\n",
      "http://api.openweathermap.org/data/2.5/weather?appid=04c02a0d186c77daef20ed362336588c&units=metric&q=As%20Sib\n",
      "http://api.openweathermap.org/data/2.5/weather?appid=04c02a0d186c77daef20ed362336588c&units=metric&q=Braunschweig\n",
      "http://api.openweathermap.org/data/2.5/weather?appid=04c02a0d186c77daef20ed362336588c&units=metric&q=Ternopil\n"
     ]
    },
    {
     "name": "stdout",
     "output_type": "stream",
     "text": [
      "http://api.openweathermap.org/data/2.5/weather?appid=04c02a0d186c77daef20ed362336588c&units=metric&q=Raichur\n",
      "http://api.openweathermap.org/data/2.5/weather?appid=04c02a0d186c77daef20ed362336588c&units=metric&q=Fukui\n",
      "http://api.openweathermap.org/data/2.5/weather?appid=04c02a0d186c77daef20ed362336588c&units=metric&q=Boise\n",
      "http://api.openweathermap.org/data/2.5/weather?appid=04c02a0d186c77daef20ed362336588c&units=metric&q=Kassel\n",
      "http://api.openweathermap.org/data/2.5/weather?appid=04c02a0d186c77daef20ed362336588c&units=metric&q=Chimoio\n",
      "http://api.openweathermap.org/data/2.5/weather?appid=04c02a0d186c77daef20ed362336588c&units=metric&q=Kirovohrad\n",
      "http://api.openweathermap.org/data/2.5/weather?appid=04c02a0d186c77daef20ed362336588c&units=metric&q=Sivas\n",
      "http://api.openweathermap.org/data/2.5/weather?appid=04c02a0d186c77daef20ed362336588c&units=metric&q=Buenaventura\n",
      "http://api.openweathermap.org/data/2.5/weather?appid=04c02a0d186c77daef20ed362336588c&units=metric&q=Petrozavodsk\n",
      "http://api.openweathermap.org/data/2.5/weather?appid=04c02a0d186c77daef20ed362336588c&units=metric&q=Phan%20Thiet\n",
      "http://api.openweathermap.org/data/2.5/weather?appid=04c02a0d186c77daef20ed362336588c&units=metric&q=Corpus%20Christi\n",
      "http://api.openweathermap.org/data/2.5/weather?appid=04c02a0d186c77daef20ed362336588c&units=metric&q=Sonipat\n",
      "http://api.openweathermap.org/data/2.5/weather?appid=04c02a0d186c77daef20ed362336588c&units=metric&q=Encarnacion\n",
      "http://api.openweathermap.org/data/2.5/weather?appid=04c02a0d186c77daef20ed362336588c&units=metric&q=Anchorage\n",
      "http://api.openweathermap.org/data/2.5/weather?appid=04c02a0d186c77daef20ed362336588c&units=metric&q=Kanggye\n",
      "http://api.openweathermap.org/data/2.5/weather?appid=04c02a0d186c77daef20ed362336588c&units=metric&q=Gorontalo\n",
      "http://api.openweathermap.org/data/2.5/weather?appid=04c02a0d186c77daef20ed362336588c&units=metric&q=Reading\n",
      "http://api.openweathermap.org/data/2.5/weather?appid=04c02a0d186c77daef20ed362336588c&units=metric&q=Karimnagar\n",
      "http://api.openweathermap.org/data/2.5/weather?appid=04c02a0d186c77daef20ed362336588c&units=metric&q=Nonthaburi\n",
      "http://api.openweathermap.org/data/2.5/weather?appid=04c02a0d186c77daef20ed362336588c&units=metric&q=San%20Salvador%20de%20Jujuy\n",
      "http://api.openweathermap.org/data/2.5/weather?appid=04c02a0d186c77daef20ed362336588c&units=metric&q=Coatzacoalcos\n",
      "http://api.openweathermap.org/data/2.5/weather?appid=04c02a0d186c77daef20ed362336588c&units=metric&q=Adapazari\n",
      "http://api.openweathermap.org/data/2.5/weather?appid=04c02a0d186c77daef20ed362336588c&units=metric&q=Iksan\n",
      "http://api.openweathermap.org/data/2.5/weather?appid=04c02a0d186c77daef20ed362336588c&units=metric&q=Yamagata\n",
      "http://api.openweathermap.org/data/2.5/weather?appid=04c02a0d186c77daef20ed362336588c&units=metric&q=Mokpo\n",
      "http://api.openweathermap.org/data/2.5/weather?appid=04c02a0d186c77daef20ed362336588c&units=metric&q=Olongapo\n",
      "http://api.openweathermap.org/data/2.5/weather?appid=04c02a0d186c77daef20ed362336588c&units=metric&q=Heyuan\n",
      "http://api.openweathermap.org/data/2.5/weather?appid=04c02a0d186c77daef20ed362336588c&units=metric&q=Talcahuano\n",
      "http://api.openweathermap.org/data/2.5/weather?appid=04c02a0d186c77daef20ed362336588c&units=metric&q=Bijapur\n",
      "http://api.openweathermap.org/data/2.5/weather?appid=04c02a0d186c77daef20ed362336588c&units=metric&q=Murmansk\n",
      "http://api.openweathermap.org/data/2.5/weather?appid=04c02a0d186c77daef20ed362336588c&units=metric&q=Nakhon%20Ratchasima\n",
      "http://api.openweathermap.org/data/2.5/weather?appid=04c02a0d186c77daef20ed362336588c&units=metric&q=Vitoria%20da%20Conquista\n",
      "http://api.openweathermap.org/data/2.5/weather?appid=04c02a0d186c77daef20ed362336588c&units=metric&q=Madison\n",
      "http://api.openweathermap.org/data/2.5/weather?appid=04c02a0d186c77daef20ed362336588c&units=metric&q=Batman\n",
      "http://api.openweathermap.org/data/2.5/weather?appid=04c02a0d186c77daef20ed362336588c&units=metric&q=Kherson\n",
      "http://api.openweathermap.org/data/2.5/weather?appid=04c02a0d186c77daef20ed362336588c&units=metric&q=Welkom\n",
      "http://api.openweathermap.org/data/2.5/weather?appid=04c02a0d186c77daef20ed362336588c&units=metric&q=Middlesbrough\n",
      "http://api.openweathermap.org/data/2.5/weather?appid=04c02a0d186c77daef20ed362336588c&units=metric&q=Ca%20Mau\n",
      "http://api.openweathermap.org/data/2.5/weather?appid=04c02a0d186c77daef20ed362336588c&units=metric&q=Cherkasy\n",
      "http://api.openweathermap.org/data/2.5/weather?appid=04c02a0d186c77daef20ed362336588c&units=metric&q=Cumana\n",
      "http://api.openweathermap.org/data/2.5/weather?appid=04c02a0d186c77daef20ed362336588c&units=metric&q=Hakodate\n",
      "http://api.openweathermap.org/data/2.5/weather?appid=04c02a0d186c77daef20ed362336588c&units=metric&q=Halifax\n",
      "http://api.openweathermap.org/data/2.5/weather?appid=04c02a0d186c77daef20ed362336588c&units=metric&q=Brasov\n",
      "http://api.openweathermap.org/data/2.5/weather?appid=04c02a0d186c77daef20ed362336588c&units=metric&q=Antofagasta\n",
      "http://api.openweathermap.org/data/2.5/weather?appid=04c02a0d186c77daef20ed362336588c&units=metric&q=Kingston%20upon%20Hull\n",
      "http://api.openweathermap.org/data/2.5/weather?appid=04c02a0d186c77daef20ed362336588c&units=metric&q=Verona\n",
      "http://api.openweathermap.org/data/2.5/weather?appid=04c02a0d186c77daef20ed362336588c&units=metric&q=Akita\n",
      "http://api.openweathermap.org/data/2.5/weather?appid=04c02a0d186c77daef20ed362336588c&units=metric&q=Ganca\n",
      "http://api.openweathermap.org/data/2.5/weather?appid=04c02a0d186c77daef20ed362336588c&units=metric&q=Yoshkar%20Ola\n",
      "http://api.openweathermap.org/data/2.5/weather?appid=04c02a0d186c77daef20ed362336588c&units=metric&q=Qarshi\n",
      "http://api.openweathermap.org/data/2.5/weather?appid=04c02a0d186c77daef20ed362336588c&units=metric&q=San%20Luis\n",
      "http://api.openweathermap.org/data/2.5/weather?appid=04c02a0d186c77daef20ed362336588c&units=metric&q=Aksu\n",
      "http://api.openweathermap.org/data/2.5/weather?appid=04c02a0d186c77daef20ed362336588c&units=metric&q=El%20Faiyum\n",
      "http://api.openweathermap.org/data/2.5/weather?appid=04c02a0d186c77daef20ed362336588c&units=metric&q=Covington\n",
      "http://api.openweathermap.org/data/2.5/weather?appid=04c02a0d186c77daef20ed362336588c&units=metric&q=Vladimir\n",
      "http://api.openweathermap.org/data/2.5/weather?appid=04c02a0d186c77daef20ed362336588c&units=metric&q=Abadan\n",
      "http://api.openweathermap.org/data/2.5/weather?appid=04c02a0d186c77daef20ed362336588c&units=metric&q=Dezful\n",
      "http://api.openweathermap.org/data/2.5/weather?appid=04c02a0d186c77daef20ed362336588c&units=metric&q=Santiago%20del%20Estero\n",
      "http://api.openweathermap.org/data/2.5/weather?appid=04c02a0d186c77daef20ed362336588c&units=metric&q=New%20Delhi\n",
      "http://api.openweathermap.org/data/2.5/weather?appid=04c02a0d186c77daef20ed362336588c&units=metric&q=Ipatinga\n",
      "http://api.openweathermap.org/data/2.5/weather?appid=04c02a0d186c77daef20ed362336588c&units=metric&q=Safi\n",
      "http://api.openweathermap.org/data/2.5/weather?appid=04c02a0d186c77daef20ed362336588c&units=metric&q=Cabimas\n",
      "http://api.openweathermap.org/data/2.5/weather?appid=04c02a0d186c77daef20ed362336588c&units=metric&q=Brighton\n",
      "http://api.openweathermap.org/data/2.5/weather?appid=04c02a0d186c77daef20ed362336588c&units=metric&q=Sarasota\n",
      "http://api.openweathermap.org/data/2.5/weather?appid=04c02a0d186c77daef20ed362336588c&units=metric&q=Rouen\n",
      "http://api.openweathermap.org/data/2.5/weather?appid=04c02a0d186c77daef20ed362336588c&units=metric&q=Guangyuan\n",
      "http://api.openweathermap.org/data/2.5/weather?appid=04c02a0d186c77daef20ed362336588c&units=metric&q=Iasi\n",
      "http://api.openweathermap.org/data/2.5/weather?appid=04c02a0d186c77daef20ed362336588c&units=metric&q=Belgorod\n",
      "http://api.openweathermap.org/data/2.5/weather?appid=04c02a0d186c77daef20ed362336588c&units=metric&q=Mathura\n",
      "http://api.openweathermap.org/data/2.5/weather?appid=04c02a0d186c77daef20ed362336588c&units=metric&q=Muzaffarpur\n",
      "http://api.openweathermap.org/data/2.5/weather?appid=04c02a0d186c77daef20ed362336588c&units=metric&q=Vitsyebsk\n",
      "http://api.openweathermap.org/data/2.5/weather?appid=04c02a0d186c77daef20ed362336588c&units=metric&q=Vigo\n",
      "http://api.openweathermap.org/data/2.5/weather?appid=04c02a0d186c77daef20ed362336588c&units=metric&q=Gent\n",
      "http://api.openweathermap.org/data/2.5/weather?appid=04c02a0d186c77daef20ed362336588c&units=metric&q=Ad%20Diwaniyah\n"
     ]
    },
    {
     "name": "stdout",
     "output_type": "stream",
     "text": [
      "http://api.openweathermap.org/data/2.5/weather?appid=04c02a0d186c77daef20ed362336588c&units=metric&q=Rajapalaiyam\n",
      "http://api.openweathermap.org/data/2.5/weather?appid=04c02a0d186c77daef20ed362336588c&units=metric&q=San%20Cristobal\n",
      "http://api.openweathermap.org/data/2.5/weather?appid=04c02a0d186c77daef20ed362336588c&units=metric&q=Tamale\n",
      "http://api.openweathermap.org/data/2.5/weather?appid=04c02a0d186c77daef20ed362336588c&units=metric&q=Kurnool\n",
      "http://api.openweathermap.org/data/2.5/weather?appid=04c02a0d186c77daef20ed362336588c&units=metric&q=Mykolayiv\n",
      "http://api.openweathermap.org/data/2.5/weather?appid=04c02a0d186c77daef20ed362336588c&units=metric&q=Rahim%20Yar%20Khan\n",
      "http://api.openweathermap.org/data/2.5/weather?appid=04c02a0d186c77daef20ed362336588c&units=metric&q=Lublin\n",
      "http://api.openweathermap.org/data/2.5/weather?appid=04c02a0d186c77daef20ed362336588c&units=metric&q=Jeju\n",
      "http://api.openweathermap.org/data/2.5/weather?appid=04c02a0d186c77daef20ed362336588c&units=metric&q=Trablous\n",
      "http://api.openweathermap.org/data/2.5/weather?appid=04c02a0d186c77daef20ed362336588c&units=metric&q=Barcelona\n",
      "http://api.openweathermap.org/data/2.5/weather?appid=04c02a0d186c77daef20ed362336588c&units=metric&q=Mazatlan\n",
      "http://api.openweathermap.org/data/2.5/weather?appid=04c02a0d186c77daef20ed362336588c&units=metric&q=Latur\n",
      "http://api.openweathermap.org/data/2.5/weather?appid=04c02a0d186c77daef20ed362336588c&units=metric&q=Grand%20Rapids\n",
      "http://api.openweathermap.org/data/2.5/weather?appid=04c02a0d186c77daef20ed362336588c&units=metric&q=El%20Minya\n",
      "http://api.openweathermap.org/data/2.5/weather?appid=04c02a0d186c77daef20ed362336588c&units=metric&q=Shillong\n",
      "http://api.openweathermap.org/data/2.5/weather?appid=04c02a0d186c77daef20ed362336588c&units=metric&q=Bydgoszcz\n",
      "http://api.openweathermap.org/data/2.5/weather?appid=04c02a0d186c77daef20ed362336588c&units=metric&q=Resistencia\n",
      "http://api.openweathermap.org/data/2.5/weather?appid=04c02a0d186c77daef20ed362336588c&units=metric&q=Wichita\n",
      "http://api.openweathermap.org/data/2.5/weather?appid=04c02a0d186c77daef20ed362336588c&units=metric&q=Brno\n",
      "http://api.openweathermap.org/data/2.5/weather?appid=04c02a0d186c77daef20ed362336588c&units=metric&q=Tver\n",
      "http://api.openweathermap.org/data/2.5/weather?appid=04c02a0d186c77daef20ed362336588c&units=metric&q=Toledo\n",
      "http://api.openweathermap.org/data/2.5/weather?appid=04c02a0d186c77daef20ed362336588c&units=metric&q=Santa%20Fe\n",
      "http://api.openweathermap.org/data/2.5/weather?appid=04c02a0d186c77daef20ed362336588c&units=metric&q=Buraydah\n",
      "http://api.openweathermap.org/data/2.5/weather?appid=04c02a0d186c77daef20ed362336588c&units=metric&q=Ndola\n",
      "http://api.openweathermap.org/data/2.5/weather?appid=04c02a0d186c77daef20ed362336588c&units=metric&q=Vina%20del%20Mar\n",
      "http://api.openweathermap.org/data/2.5/weather?appid=04c02a0d186c77daef20ed362336588c&units=metric&q=Quetzaltenango\n",
      "http://api.openweathermap.org/data/2.5/weather?appid=04c02a0d186c77daef20ed362336588c&units=metric&q=Awka\n",
      "http://api.openweathermap.org/data/2.5/weather?appid=04c02a0d186c77daef20ed362336588c&units=metric&q=Oujda\n",
      "http://api.openweathermap.org/data/2.5/weather?appid=04c02a0d186c77daef20ed362336588c&units=metric&q=Zhuozhou\n",
      "http://api.openweathermap.org/data/2.5/weather?appid=04c02a0d186c77daef20ed362336588c&units=metric&q=Ibague\n",
      "http://api.openweathermap.org/data/2.5/weather?appid=04c02a0d186c77daef20ed362336588c&units=metric&q=Mariupol\n",
      "http://api.openweathermap.org/data/2.5/weather?appid=04c02a0d186c77daef20ed362336588c&units=metric&q=Knoxville\n",
      "http://api.openweathermap.org/data/2.5/weather?appid=04c02a0d186c77daef20ed362336588c&units=metric&q=Kolwezi\n",
      "http://api.openweathermap.org/data/2.5/weather?appid=04c02a0d186c77daef20ed362336588c&units=metric&q=Bamenda\n",
      "http://api.openweathermap.org/data/2.5/weather?appid=04c02a0d186c77daef20ed362336588c&units=metric&q=Freetown\n",
      "http://api.openweathermap.org/data/2.5/weather?appid=04c02a0d186c77daef20ed362336588c&units=metric&q=Dhule\n",
      "http://api.openweathermap.org/data/2.5/weather?appid=04c02a0d186c77daef20ed362336588c&units=metric&q=Chaozhou\n",
      "http://api.openweathermap.org/data/2.5/weather?appid=04c02a0d186c77daef20ed362336588c&units=metric&q=Bryansk\n",
      "http://api.openweathermap.org/data/2.5/weather?appid=04c02a0d186c77daef20ed362336588c&units=metric&q=Likasi\n",
      "http://api.openweathermap.org/data/2.5/weather?appid=04c02a0d186c77daef20ed362336588c&units=metric&q=Xalapa\n",
      "http://api.openweathermap.org/data/2.5/weather?appid=04c02a0d186c77daef20ed362336588c&units=metric&q=Herat\n",
      "http://api.openweathermap.org/data/2.5/weather?appid=04c02a0d186c77daef20ed362336588c&units=metric&q=Chaoyang\n",
      "http://api.openweathermap.org/data/2.5/weather?appid=04c02a0d186c77daef20ed362336588c&units=metric&q=Ado%20Ekiti\n",
      "http://api.openweathermap.org/data/2.5/weather?appid=04c02a0d186c77daef20ed362336588c&units=metric&q=Iquitos\n",
      "http://api.openweathermap.org/data/2.5/weather?appid=04c02a0d186c77daef20ed362336588c&units=metric&q=Matamoros\n",
      "http://api.openweathermap.org/data/2.5/weather?appid=04c02a0d186c77daef20ed362336588c&units=metric&q=Kirov\n",
      "http://api.openweathermap.org/data/2.5/weather?appid=04c02a0d186c77daef20ed362336588c&units=metric&q=Butterworth\n",
      "http://api.openweathermap.org/data/2.5/weather?appid=04c02a0d186c77daef20ed362336588c&units=metric&q=Edinburgh\n",
      "http://api.openweathermap.org/data/2.5/weather?appid=04c02a0d186c77daef20ed362336588c&units=metric&q=Irbid\n",
      "http://api.openweathermap.org/data/2.5/weather?appid=04c02a0d186c77daef20ed362336588c&units=metric&q=Sao%20Jose%20dos%20Pinhais\n",
      "http://api.openweathermap.org/data/2.5/weather?appid=04c02a0d186c77daef20ed362336588c&units=metric&q=Nagano\n",
      "http://api.openweathermap.org/data/2.5/weather?appid=04c02a0d186c77daef20ed362336588c&units=metric&q=Tula\n",
      "http://api.openweathermap.org/data/2.5/weather?appid=04c02a0d186c77daef20ed362336588c&units=metric&q=Ife\n",
      "http://api.openweathermap.org/data/2.5/weather?appid=04c02a0d186c77daef20ed362336588c&units=metric&q=Catania\n",
      "http://api.openweathermap.org/data/2.5/weather?appid=04c02a0d186c77daef20ed362336588c&units=metric&q=Rochester\n",
      "http://api.openweathermap.org/data/2.5/weather?appid=04c02a0d186c77daef20ed362336588c&units=metric&q=Albany\n",
      "http://api.openweathermap.org/data/2.5/weather?appid=04c02a0d186c77daef20ed362336588c&units=metric&q=Saharanpur\n",
      "http://api.openweathermap.org/data/2.5/weather?appid=04c02a0d186c77daef20ed362336588c&units=metric&q=Matola\n",
      "http://api.openweathermap.org/data/2.5/weather?appid=04c02a0d186c77daef20ed362336588c&units=metric&q=Xinyu\n",
      "http://api.openweathermap.org/data/2.5/weather?appid=04c02a0d186c77daef20ed362336588c&units=metric&q=Siliguri\n",
      "http://api.openweathermap.org/data/2.5/weather?appid=04c02a0d186c77daef20ed362336588c&units=metric&q=Al%20Hufuf\n",
      "http://api.openweathermap.org/data/2.5/weather?appid=04c02a0d186c77daef20ed362336588c&units=metric&q=Ribeirao%20Preto\n",
      "http://api.openweathermap.org/data/2.5/weather?appid=04c02a0d186c77daef20ed362336588c&units=metric&q=Siping\n",
      "http://api.openweathermap.org/data/2.5/weather?appid=04c02a0d186c77daef20ed362336588c&units=metric&q=Guntur\n",
      "http://api.openweathermap.org/data/2.5/weather?appid=04c02a0d186c77daef20ed362336588c&units=metric&q=Jiangmen\n",
      "http://api.openweathermap.org/data/2.5/weather?appid=04c02a0d186c77daef20ed362336588c&units=metric&q=Yangzhou\n",
      "http://api.openweathermap.org/data/2.5/weather?appid=04c02a0d186c77daef20ed362336588c&units=metric&q=Zaragoza\n",
      "http://api.openweathermap.org/data/2.5/weather?appid=04c02a0d186c77daef20ed362336588c&units=metric&q=Raurkela\n",
      "http://api.openweathermap.org/data/2.5/weather?appid=04c02a0d186c77daef20ed362336588c&units=metric&q=Mar%20del%20Plata\n",
      "http://api.openweathermap.org/data/2.5/weather?appid=04c02a0d186c77daef20ed362336588c&units=metric&q=Surakarta\n",
      "http://api.openweathermap.org/data/2.5/weather?appid=04c02a0d186c77daef20ed362336588c&units=metric&q=Kayseri\n",
      "http://api.openweathermap.org/data/2.5/weather?appid=04c02a0d186c77daef20ed362336588c&units=metric&q=Malegaon\n",
      "http://api.openweathermap.org/data/2.5/weather?appid=04c02a0d186c77daef20ed362336588c&units=metric&q=Tarsus\n",
      "http://api.openweathermap.org/data/2.5/weather?appid=04c02a0d186c77daef20ed362336588c&units=metric&q=Urmia\n",
      "http://api.openweathermap.org/data/2.5/weather?appid=04c02a0d186c77daef20ed362336588c&units=metric&q=Aracaju\n"
     ]
    },
    {
     "name": "stdout",
     "output_type": "stream",
     "text": [
      "http://api.openweathermap.org/data/2.5/weather?appid=04c02a0d186c77daef20ed362336588c&units=metric&q=At%20Taif\n",
      "http://api.openweathermap.org/data/2.5/weather?appid=04c02a0d186c77daef20ed362336588c&units=metric&q=Ogbomosho\n",
      "http://api.openweathermap.org/data/2.5/weather?appid=04c02a0d186c77daef20ed362336588c&units=metric&q=Hamhung\n",
      "http://api.openweathermap.org/data/2.5/weather?appid=04c02a0d186c77daef20ed362336588c&units=metric&q=Poznan\n",
      "http://api.openweathermap.org/data/2.5/weather?appid=04c02a0d186c77daef20ed362336588c&units=metric&q=Shaoxing\n",
      "http://api.openweathermap.org/data/2.5/weather?appid=04c02a0d186c77daef20ed362336588c&units=metric&q=Namangan\n",
      "http://api.openweathermap.org/data/2.5/weather?appid=04c02a0d186c77daef20ed362336588c&units=metric&q=Cardiff\n",
      "http://api.openweathermap.org/data/2.5/weather?appid=04c02a0d186c77daef20ed362336588c&units=metric&q=Belgaum\n",
      "http://api.openweathermap.org/data/2.5/weather?appid=04c02a0d186c77daef20ed362336588c&units=metric&q=Izhevsk\n",
      "http://api.openweathermap.org/data/2.5/weather?appid=04c02a0d186c77daef20ed362336588c&units=metric&q=Krasnoyarsk\n",
      "http://api.openweathermap.org/data/2.5/weather?appid=04c02a0d186c77daef20ed362336588c&units=metric&q=Morelia\n",
      "http://api.openweathermap.org/data/2.5/weather?appid=04c02a0d186c77daef20ed362336588c&units=metric&q=Jhansi\n",
      "http://api.openweathermap.org/data/2.5/weather?appid=04c02a0d186c77daef20ed362336588c&units=metric&q=Dahuk\n",
      "http://api.openweathermap.org/data/2.5/weather?appid=04c02a0d186c77daef20ed362336588c&units=metric&q=San%20Jose\n",
      "http://api.openweathermap.org/data/2.5/weather?appid=04c02a0d186c77daef20ed362336588c&units=metric&q=Omaha\n",
      "http://api.openweathermap.org/data/2.5/weather?appid=04c02a0d186c77daef20ed362336588c&units=metric&q=Sokoto\n",
      "http://api.openweathermap.org/data/2.5/weather?appid=04c02a0d186c77daef20ed362336588c&units=metric&q=Shiyan\n",
      "http://api.openweathermap.org/data/2.5/weather?appid=04c02a0d186c77daef20ed362336588c&units=metric&q=Ipoh\n",
      "http://api.openweathermap.org/data/2.5/weather?appid=04c02a0d186c77daef20ed362336588c&units=metric&q=Vientiane\n",
      "http://api.openweathermap.org/data/2.5/weather?appid=04c02a0d186c77daef20ed362336588c&units=metric&q=Jeonju\n",
      "http://api.openweathermap.org/data/2.5/weather?appid=04c02a0d186c77daef20ed362336588c&units=metric&q=Warri\n",
      "http://api.openweathermap.org/data/2.5/weather?appid=04c02a0d186c77daef20ed362336588c&units=metric&q=Shizuoka\n",
      "http://api.openweathermap.org/data/2.5/weather?appid=04c02a0d186c77daef20ed362336588c&units=metric&q=Campo%20Grande\n",
      "http://api.openweathermap.org/data/2.5/weather?appid=04c02a0d186c77daef20ed362336588c&units=metric&q=Huzhou\n",
      "http://api.openweathermap.org/data/2.5/weather?appid=04c02a0d186c77daef20ed362336588c&units=metric&q=Nashville\n",
      "http://api.openweathermap.org/data/2.5/weather?appid=04c02a0d186c77daef20ed362336588c&units=metric&q=Joinville\n",
      "http://api.openweathermap.org/data/2.5/weather?appid=04c02a0d186c77daef20ed362336588c&units=metric&q=Zagreb\n",
      "http://api.openweathermap.org/data/2.5/weather?appid=04c02a0d186c77daef20ed362336588c&units=metric&q=Cheongju\n",
      "http://api.openweathermap.org/data/2.5/weather?appid=04c02a0d186c77daef20ed362336588c&units=metric&q=Z%C3%BCrich\n",
      "http://api.openweathermap.org/data/2.5/weather?appid=04c02a0d186c77daef20ed362336588c&units=metric&q=Cotonou\n",
      "http://api.openweathermap.org/data/2.5/weather?appid=04c02a0d186c77daef20ed362336588c&units=metric&q=Jiaxing\n",
      "http://api.openweathermap.org/data/2.5/weather?appid=04c02a0d186c77daef20ed362336588c&units=metric&q=Dhanbad\n",
      "http://api.openweathermap.org/data/2.5/weather?appid=04c02a0d186c77daef20ed362336588c&units=metric&q=Bengbu\n",
      "http://api.openweathermap.org/data/2.5/weather?appid=04c02a0d186c77daef20ed362336588c&units=metric&q=Mexicali\n",
      "http://api.openweathermap.org/data/2.5/weather?appid=04c02a0d186c77daef20ed362336588c&units=metric&q=Jos\n",
      "http://api.openweathermap.org/data/2.5/weather?appid=04c02a0d186c77daef20ed362336588c&units=metric&q=Vila%20Velha\n",
      "http://api.openweathermap.org/data/2.5/weather?appid=04c02a0d186c77daef20ed362336588c&units=metric&q=Agadir\n",
      "http://api.openweathermap.org/data/2.5/weather?appid=04c02a0d186c77daef20ed362336588c&units=metric&q=Rajshahi\n",
      "http://api.openweathermap.org/data/2.5/weather?appid=04c02a0d186c77daef20ed362336588c&units=metric&q=Aden\n",
      "http://api.openweathermap.org/data/2.5/weather?appid=04c02a0d186c77daef20ed362336588c&units=metric&q=Raipur\n",
      "http://api.openweathermap.org/data/2.5/weather?appid=04c02a0d186c77daef20ed362336588c&units=metric&q=Jinzhou\n",
      "http://api.openweathermap.org/data/2.5/weather?appid=04c02a0d186c77daef20ed362336588c&units=metric&q=Cebu\n",
      "http://api.openweathermap.org/data/2.5/weather?appid=04c02a0d186c77daef20ed362336588c&units=metric&q=Newcastle\n",
      "http://api.openweathermap.org/data/2.5/weather?appid=04c02a0d186c77daef20ed362336588c&units=metric&q=Quanzhou\n",
      "http://api.openweathermap.org/data/2.5/weather?appid=04c02a0d186c77daef20ed362336588c&units=metric&q=Salem\n",
      "http://api.openweathermap.org/data/2.5/weather?appid=04c02a0d186c77daef20ed362336588c&units=metric&q=Bogor\n",
      "http://api.openweathermap.org/data/2.5/weather?appid=04c02a0d186c77daef20ed362336588c&units=metric&q=Qinhuangdao\n",
      "http://api.openweathermap.org/data/2.5/weather?appid=04c02a0d186c77daef20ed362336588c&units=metric&q=Bandar%20Lampung\n",
      "http://api.openweathermap.org/data/2.5/weather?appid=04c02a0d186c77daef20ed362336588c&units=metric&q=Xining\n",
      "http://api.openweathermap.org/data/2.5/weather?appid=04c02a0d186c77daef20ed362336588c&units=metric&q=Benxi\n",
      "http://api.openweathermap.org/data/2.5/weather?appid=04c02a0d186c77daef20ed362336588c&units=metric&q=Baoshan\n",
      "http://api.openweathermap.org/data/2.5/weather?appid=04c02a0d186c77daef20ed362336588c&units=metric&q=Gwalior\n",
      "http://api.openweathermap.org/data/2.5/weather?appid=04c02a0d186c77daef20ed362336588c&units=metric&q=Chandigarh\n",
      "http://api.openweathermap.org/data/2.5/weather?appid=04c02a0d186c77daef20ed362336588c&units=metric&q=Daqing\n",
      "http://api.openweathermap.org/data/2.5/weather?appid=04c02a0d186c77daef20ed362336588c&units=metric&q=Oakland\n",
      "http://api.openweathermap.org/data/2.5/weather?appid=04c02a0d186c77daef20ed362336588c&units=metric&q=Jamshedpur\n",
      "http://api.openweathermap.org/data/2.5/weather?appid=04c02a0d186c77daef20ed362336588c&units=metric&q=Weifang\n",
      "http://api.openweathermap.org/data/2.5/weather?appid=04c02a0d186c77daef20ed362336588c&units=metric&q=Zhongli\n",
      "http://api.openweathermap.org/data/2.5/weather?appid=04c02a0d186c77daef20ed362336588c&units=metric&q=Calgary\n",
      "http://api.openweathermap.org/data/2.5/weather?appid=04c02a0d186c77daef20ed362336588c&units=metric&q=Ankang\n",
      "http://api.openweathermap.org/data/2.5/weather?appid=04c02a0d186c77daef20ed362336588c&units=metric&q=Sofia\n",
      "http://api.openweathermap.org/data/2.5/weather?appid=04c02a0d186c77daef20ed362336588c&units=metric&q=Abbottabad\n",
      "http://api.openweathermap.org/data/2.5/weather?appid=04c02a0d186c77daef20ed362336588c&units=metric&q=Kuwait\n",
      "http://api.openweathermap.org/data/2.5/weather?appid=04c02a0d186c77daef20ed362336588c&units=metric&q=K%C3%B8benhavn\n",
      "http://api.openweathermap.org/data/2.5/weather?appid=04c02a0d186c77daef20ed362336588c&units=metric&q=Omsk\n",
      "http://api.openweathermap.org/data/2.5/weather?appid=04c02a0d186c77daef20ed362336588c&units=metric&q=Bhilai\n",
      "http://api.openweathermap.org/data/2.5/weather?appid=04c02a0d186c77daef20ed362336588c&units=metric&q=Madurai\n",
      "http://api.openweathermap.org/data/2.5/weather?appid=04c02a0d186c77daef20ed362336588c&units=metric&q=Zhanjiang\n",
      "http://api.openweathermap.org/data/2.5/weather?appid=04c02a0d186c77daef20ed362336588c&units=metric&q=Changzhou\n",
      "http://api.openweathermap.org/data/2.5/weather?appid=04c02a0d186c77daef20ed362336588c&units=metric&q=Las%20Vegas\n",
      "http://api.openweathermap.org/data/2.5/weather?appid=04c02a0d186c77daef20ed362336588c&units=metric&q=Ghaziabad\n",
      "http://api.openweathermap.org/data/2.5/weather?appid=04c02a0d186c77daef20ed362336588c&units=metric&q=Yekaterinburg\n",
      "http://api.openweathermap.org/data/2.5/weather?appid=04c02a0d186c77daef20ed362336588c&units=metric&q=Haiphong\n",
      "http://api.openweathermap.org/data/2.5/weather?appid=04c02a0d186c77daef20ed362336588c&units=metric&q=Leon\n",
      "http://api.openweathermap.org/data/2.5/weather?appid=04c02a0d186c77daef20ed362336588c&units=metric&q=Mannheim\n"
     ]
    },
    {
     "name": "stdout",
     "output_type": "stream",
     "text": [
      "http://api.openweathermap.org/data/2.5/weather?appid=04c02a0d186c77daef20ed362336588c&units=metric&q=Kampala\n",
      "http://api.openweathermap.org/data/2.5/weather?appid=04c02a0d186c77daef20ed362336588c&units=metric&q=Bamako\n",
      "http://api.openweathermap.org/data/2.5/weather?appid=04c02a0d186c77daef20ed362336588c&units=metric&q=Hyderabad\n",
      "http://api.openweathermap.org/data/2.5/weather?appid=04c02a0d186c77daef20ed362336588c&units=metric&q=Fushun\n",
      "http://api.openweathermap.org/data/2.5/weather?appid=04c02a0d186c77daef20ed362336588c&units=metric&q=Datong\n",
      "http://api.openweathermap.org/data/2.5/weather?appid=04c02a0d186c77daef20ed362336588c&units=metric&q=Kumasi\n",
      "http://api.openweathermap.org/data/2.5/weather?appid=04c02a0d186c77daef20ed362336588c&units=metric&q=Santiago\n",
      "http://api.openweathermap.org/data/2.5/weather?appid=04c02a0d186c77daef20ed362336588c&units=metric&q=Xiamen\n",
      "http://api.openweathermap.org/data/2.5/weather?appid=04c02a0d186c77daef20ed362336588c&units=metric&q=Xuzhou\n",
      "http://api.openweathermap.org/data/2.5/weather?appid=04c02a0d186c77daef20ed362336588c&units=metric&q=Bhopal\n",
      "http://api.openweathermap.org/data/2.5/weather?appid=04c02a0d186c77daef20ed362336588c&units=metric&q=Wanzhou\n",
      "http://api.openweathermap.org/data/2.5/weather?appid=04c02a0d186c77daef20ed362336588c&units=metric&q=Warsaw\n",
      "http://api.openweathermap.org/data/2.5/weather?appid=04c02a0d186c77daef20ed362336588c&units=metric&q=Maracaibo\n",
      "http://api.openweathermap.org/data/2.5/weather?appid=04c02a0d186c77daef20ed362336588c&units=metric&q=Shuyang\n",
      "http://api.openweathermap.org/data/2.5/weather?appid=04c02a0d186c77daef20ed362336588c&units=metric&q=Belem\n",
      "http://api.openweathermap.org/data/2.5/weather?appid=04c02a0d186c77daef20ed362336588c&units=metric&q=Puebla\n",
      "http://api.openweathermap.org/data/2.5/weather?appid=04c02a0d186c77daef20ed362336588c&units=metric&q=Urumqi\n",
      "http://api.openweathermap.org/data/2.5/weather?appid=04c02a0d186c77daef20ed362336588c&units=metric&q=Patna\n",
      "http://api.openweathermap.org/data/2.5/weather?appid=04c02a0d186c77daef20ed362336588c&units=metric&q=Baku\n",
      "http://api.openweathermap.org/data/2.5/weather?appid=04c02a0d186c77daef20ed362336588c&units=metric&q=Nanchang\n",
      "http://api.openweathermap.org/data/2.5/weather?appid=04c02a0d186c77daef20ed362336588c&units=metric&q=Jilin\n",
      "http://api.openweathermap.org/data/2.5/weather?appid=04c02a0d186c77daef20ed362336588c&units=metric&q=Nanchong\n",
      "http://api.openweathermap.org/data/2.5/weather?appid=04c02a0d186c77daef20ed362336588c&units=metric&q=Qingdao\n",
      "http://api.openweathermap.org/data/2.5/weather?appid=04c02a0d186c77daef20ed362336588c&units=metric&q=Nagpur\n",
      "http://api.openweathermap.org/data/2.5/weather?appid=04c02a0d186c77daef20ed362336588c&units=metric&q=Caracas\n",
      "http://api.openweathermap.org/data/2.5/weather?appid=04c02a0d186c77daef20ed362336588c&units=metric&q=Hangzhou\n",
      "http://api.openweathermap.org/data/2.5/weather?appid=04c02a0d186c77daef20ed362336588c&units=metric&q=Daegu\n",
      "http://api.openweathermap.org/data/2.5/weather?appid=04c02a0d186c77daef20ed362336588c&units=metric&q=Dakar\n",
      "http://api.openweathermap.org/data/2.5/weather?appid=04c02a0d186c77daef20ed362336588c&units=metric&q=Recife\n",
      "http://api.openweathermap.org/data/2.5/weather?appid=04c02a0d186c77daef20ed362336588c&units=metric&q=Porto%20Alegre\n",
      "http://api.openweathermap.org/data/2.5/weather?appid=04c02a0d186c77daef20ed362336588c&units=metric&q=El%20Giza\n",
      "http://api.openweathermap.org/data/2.5/weather?appid=04c02a0d186c77daef20ed362336588c&units=metric&q=Quezon%20City\n",
      "http://api.openweathermap.org/data/2.5/weather?appid=04c02a0d186c77daef20ed362336588c&units=metric&q=Dar%20es%20Salaam\n",
      "http://api.openweathermap.org/data/2.5/weather?appid=04c02a0d186c77daef20ed362336588c&units=metric&q=Taiyuan\n",
      "http://api.openweathermap.org/data/2.5/weather?appid=04c02a0d186c77daef20ed362336588c&units=metric&q=Nairobi\n",
      "http://api.openweathermap.org/data/2.5/weather?appid=04c02a0d186c77daef20ed362336588c&units=metric&q=Santiago\n",
      "http://api.openweathermap.org/data/2.5/weather?appid=04c02a0d186c77daef20ed362336588c&units=metric&q=Pyongyang\n",
      "http://api.openweathermap.org/data/2.5/weather?appid=04c02a0d186c77daef20ed362336588c&units=metric&q=Guadalajara\n",
      "http://api.openweathermap.org/data/2.5/weather?appid=04c02a0d186c77daef20ed362336588c&units=metric&q=Dallas\n",
      "http://api.openweathermap.org/data/2.5/weather?appid=04c02a0d186c77daef20ed362336588c&units=metric&q=Nanjing\n",
      "http://api.openweathermap.org/data/2.5/weather?appid=04c02a0d186c77daef20ed362336588c&units=metric&q=Busan\n",
      "http://api.openweathermap.org/data/2.5/weather?appid=04c02a0d186c77daef20ed362336588c&units=metric&q=Ankara\n",
      "http://api.openweathermap.org/data/2.5/weather?appid=04c02a0d186c77daef20ed362336588c&units=metric&q=Alexandria\n",
      "http://api.openweathermap.org/data/2.5/weather?appid=04c02a0d186c77daef20ed362336588c&units=metric&q=Sydney\n",
      "http://api.openweathermap.org/data/2.5/weather?appid=04c02a0d186c77daef20ed362336588c&units=metric&q=Chittagong\n",
      "http://api.openweathermap.org/data/2.5/weather?appid=04c02a0d186c77daef20ed362336588c&units=metric&q=Riyadh\n",
      "http://api.openweathermap.org/data/2.5/weather?appid=04c02a0d186c77daef20ed362336588c&units=metric&q=Wuhan\n",
      "http://api.openweathermap.org/data/2.5/weather?appid=04c02a0d186c77daef20ed362336588c&units=metric&q=Hong%20Kong\n",
      "http://api.openweathermap.org/data/2.5/weather?appid=04c02a0d186c77daef20ed362336588c&units=metric&q=Los%20Angeles\n",
      "http://api.openweathermap.org/data/2.5/weather?appid=04c02a0d186c77daef20ed362336588c&units=metric&q=Buenos%20Aires\n",
      "http://api.openweathermap.org/data/2.5/weather?appid=04c02a0d186c77daef20ed362336588c&units=metric&q=Mumbai\n"
     ]
    }
   ],
   "source": [
    "for index, row in cities_df.iterrows():\n",
    "    \n",
    "    city = row['city']\n",
    "    \n",
    "    response = requests.get(query_url + str(city))\n",
    "    print(response.url)"
   ]
  },
  {
   "cell_type": "code",
   "execution_count": 51,
   "metadata": {},
   "outputs": [
    {
     "name": "stdout",
     "output_type": "stream",
     "text": [
      "Missing field/result... skipping.\n",
      "Missing field/result... skipping.\n",
      "Missing field/result... skipping.\n",
      "Missing field/result... skipping.\n",
      "Missing field/result... skipping.\n",
      "Missing field/result... skipping.\n",
      "Missing field/result... skipping.\n",
      "Missing field/result... skipping.\n",
      "Missing field/result... skipping.\n",
      "Missing field/result... skipping.\n",
      "Missing field/result... skipping.\n",
      "Missing field/result... skipping.\n",
      "Missing field/result... skipping.\n",
      "Missing field/result... skipping.\n",
      "Missing field/result... skipping.\n",
      "Missing field/result... skipping.\n",
      "Missing field/result... skipping.\n",
      "Missing field/result... skipping.\n",
      "Missing field/result... skipping.\n",
      "Missing field/result... skipping.\n",
      "Missing field/result... skipping.\n",
      "Missing field/result... skipping.\n",
      "Missing field/result... skipping.\n",
      "Missing field/result... skipping.\n",
      "Missing field/result... skipping.\n",
      "Missing field/result... skipping.\n",
      "Missing field/result... skipping.\n",
      "Missing field/result... skipping.\n",
      "Missing field/result... skipping.\n",
      "Missing field/result... skipping.\n",
      "Missing field/result... skipping.\n",
      "Missing field/result... skipping.\n",
      "Missing field/result... skipping.\n",
      "check complete\n"
     ]
    }
   ],
   "source": [
    "for index, row in cities_df.iterrows():\n",
    "    \n",
    "    city = row['city']\n",
    "    \n",
    "    response = requests.get(query_url + str(city)).json()\n",
    "    \n",
    "    try:\n",
    "        cities_df.set_value(index, \"Temperature (F)\",\n",
    "                            response['main'][\"temp\"])\n",
    "        cities_df.set_value(index, \"Cloudiness %\",\n",
    "                            response[\"clouds\"][\"all\"])\n",
    "        cities_df.set_value(index, \"Wind Speed (mph)\",\n",
    "                            response[\"wind\"][\"speed\"])\n",
    "        cities_df.set_value(index, \"Humidity %\",\n",
    "                            response[\"main\"][\"humidity\"])\n",
    "        \n",
    "    except:\n",
    "        print(\"Missing field/result... skipping.\")\n",
    "        \n",
    "print(\"check complete\")"
   ]
  },
  {
   "cell_type": "code",
   "execution_count": 54,
   "metadata": {},
   "outputs": [],
   "source": [
    "cities_df.head()"
   ]
  },
  {
   "cell_type": "code",
   "execution_count": null,
   "metadata": {
    "collapsed": true
   },
   "outputs": [],
   "source": [
    "cities_df.to_csv(\"csvweatherpy.csv\", header = True)"
   ]
  },
  {
   "cell_type": "code",
   "execution_count": 58,
   "metadata": {},
   "outputs": [],
   "source": [
    "cities_df_filter = cities_df[cities_df[\"Temperature (F)\"] != \"\"]\n",
    "cities_df_filter"
   ]
  },
  {
   "cell_type": "code",
   "execution_count": 65,
   "metadata": {
    "collapsed": true
   },
   "outputs": [],
   "source": [
    "cities_df_filter.to_csv(\"csvweatherpy_filter.csv\", header = True)"
   ]
  },
  {
   "cell_type": "code",
   "execution_count": null,
   "metadata": {},
   "outputs": [],
   "source": []
  },
  {
   "cell_type": "code",
   "execution_count": 60,
   "metadata": {},
   "outputs": [
    {
     "data": {
      "text/plain": [
       "city                 object\n",
       "lat                 float64\n",
       "lng                 float64\n",
       "country              object\n",
       "Temperature (F)      object\n",
       "Cloudiness %         object\n",
       "Wind Speed (mph)     object\n",
       "Humidity %           object\n",
       "dtype: object"
      ]
     },
     "execution_count": 60,
     "metadata": {},
     "output_type": "execute_result"
    }
   ],
   "source": [
    "cities_df_filter.dtypes"
   ]
  },
  {
   "cell_type": "code",
   "execution_count": 59,
   "metadata": {},
   "outputs": [
    {
     "name": "stdout",
     "output_type": "stream",
     "text": [
      "<class 'pandas.core.series.Series'>\n"
     ]
    }
   ],
   "source": [
    "#print(type(cities_df[\"Temperature (F)\"]))"
   ]
  },
  {
   "cell_type": "code",
   "execution_count": null,
   "metadata": {},
   "outputs": [],
   "source": [
    "#cities_df[\"Latitude\"] = cities_df[\"Latitude\"].astype(float)\n",
    "#cities_df[\"Temperature (F)\"] = cities_df[\"Temperature (F)\"].astype(float)\n",
    "#cities_df[\"Cloudiness %\"] = cities_df[\"Cloudiness %\"].astype(float)\n",
    "#cities_df[\"Wind Speed (mph)\"] = cities_df[\"Wind Speed (mph)\"].astype(float)\n",
    "#cities_df[\"Humidity %\"] = cities_df[\"Humidity %\"].astype(float)"
   ]
  },
  {
   "cell_type": "code",
   "execution_count": 63,
   "metadata": {},
   "outputs": [
    {
     "data": {
      "image/png": "[encoded data removed]",
      "text/plain": [
       "<matplotlib.figure.Figure at 0x2265bd83d30>"
      ]
     },
     "metadata": {},
     "output_type": "display_data"
    }
   ],
   "source": [
    "#Temp Plot\n",
    "sb.set()\n",
    "\n",
    "x = cities_df_filter[\"lat\"]\n",
    "y = cities_df_filter[\"Temperature (F)\"]\n",
    "\n",
    "plt.scatter(x, y, marker=\"o\", facecolors=\"orange\", edgecolors=\"black\")\n",
    "plt.title(\"Temperature vs Latitude\")\n",
    "plt.xlabel(\"Latitude\")\n",
    "plt.ylabel(\"Temperature (F)\")\n",
    "plt.show()"
   ]
  },
  {
   "cell_type": "code",
   "execution_count": 90,
   "metadata": {},
   "outputs": [
    {
     "data": {
      "image/png": "[encoded data removed]",
      "text/plain": [
       "<matplotlib.figure.Figure at 0x22660884e10>"
      ]
     },
     "metadata": {},
     "output_type": "display_data"
    }
   ],
   "source": [
    "#Cloud Plot\n",
    "sb.set()\n",
    "\n",
    "\n",
    "\n",
    "x = cities_df_filter[\"lat\"]\n",
    "y = cities_df_filter[\"Cloudiness %\"]\n",
    "\n",
    "plt.scatter(x, y, marker=\"o\", facecolors=\"gray\", edgecolors=\"black\")\n",
    "plt.title(\"Cloudiness % vs Latitude\")\n",
    "plt.xlabel(\"Latitude\")\n",
    "plt.ylabel(\"Cloudiness %\")\n",
    "\n",
    "plt.show()"
   ]
  },
  {
   "cell_type": "code",
   "execution_count": null,
   "metadata": {
    "collapsed": true
   },
   "outputs": [],
   "source": []
  },
  {
   "cell_type": "code",
   "execution_count": 91,
   "metadata": {},
   "outputs": [
    {
     "data": {
      "image/png": "[encoded data removed]",
      "text/plain": [
       "<matplotlib.figure.Figure at 0x226608849e8>"
      ]
     },
     "metadata": {},
     "output_type": "display_data"
    }
   ],
   "source": [
    "#Wind Plot\n",
    "x = cities_df_filter[\"lat\"]\n",
    "y = cities_df_filter[\"Wind Speed (mph)\"]\n",
    "\n",
    "plt.scatter(x, y, marker=\"*\", facecolors=\"blue\", edgecolors=\"black\")\n",
    "plt.title(\"Wind Speed (mph) vs Latitude\")\n",
    "plt.xlabel(\"Latitude\")\n",
    "plt.ylabel(\"Wind Speed (mph)\")\n",
    "\n",
    "plt.show()"
   ]
  },
  {
   "cell_type": "code",
   "execution_count": 92,
   "metadata": {},
   "outputs": [
    {
     "data": {
      "image/png": "[encoded data removed]",
      "text/plain": [
       "<matplotlib.figure.Figure at 0x22660148198>"
      ]
     },
     "metadata": {},
     "output_type": "display_data"
    }
   ],
   "source": [
    "#Humid Plot\n",
    "x = cities_df_filter[\"lat\"]\n",
    "y = cities_df_filter[\"Humidity %\"]\n",
    "\n",
    "plt.scatter(x, y, marker=\"o\", facecolors=\"purple\", edgecolors=\"black\")\n",
    "plt.title(\"Humidity % vs Latitude\")\n",
    "plt.xlabel(\"Latitude\")\n",
    "plt.ylabel(\"Humidity %\")\n",
    "\n",
    "plt.show()"
   ]
  },
  {
   "cell_type": "code",
   "execution_count": null,
   "metadata": {
    "collapsed": true
   },
   "outputs": [],
   "source": [
    "#Useful code has ended.\n",
    "#Code beyond this point is not needed."
   ]
  },
  {
   "cell_type": "code",
   "execution_count": null,
   "metadata": {},
   "outputs": [],
   "source": [
    "#append values directly to empty rows created earlier to avoid re-creating df\n",
    "cityList = cities_df['City'].tolist()\n",
    "temp = []\n",
    "wind = []\n",
    "humid = []\n",
    "cloud = []\n",
    "\n",
    "for city in cityList:\n",
    "    try:\n",
    "        response = requests.get(query_url + city).json()\n",
    "        temp.append(response['main']['temp'])\n",
    "        wind.append(response['wind']['speed'])\n",
    "        humid.append(response['main']['humidity'])\n",
    "        cloud.append(response['clouds']['all'])\n",
    "    \n",
    "    except(KeyError, IndexError):\n",
    "            print(\"missing value, skipping\")\n"
   ]
  },
  {
   "cell_type": "code",
   "execution_count": null,
   "metadata": {},
   "outputs": [],
   "source": [
    "cities_df = pd.DataFrame({\n",
    "    \"Cities\": cities_df[\"city\"],\n",
    "    \"Country\": cities_df[\"country\"],\n",
    "    \"Latitude\": cities_df[\"lat\"],\n",
    "    \"Longitude\": cities_df[\"lng\"],\n",
    "    \"Temperature (F)\": temp,\n",
    "    \"Cloudiness %\": cloud,\n",
    "    \"Wind Speed (mph)\": wind,\n",
    "    \"Humidity %\": humid},\n",
    "    columns = [\"City\", \"Country\", \"Latitude\", \"Longitude\", \"Temperature (F)\", \"Cloudiness %\", \"Wind Speed (mph)\", \"Humidity %\"])\n",
    "\n",
    "cities_df.head()"
   ]
  },
  {
   "cell_type": "code",
   "execution_count": null,
   "metadata": {
    "collapsed": true
   },
   "outputs": [],
   "source": []
  },
  {
   "cell_type": "code",
   "execution_count": null,
   "metadata": {
    "collapsed": true
   },
   "outputs": [],
   "source": []
  },
  {
   "cell_type": "code",
   "execution_count": null,
   "metadata": {
    "collapsed": true
   },
   "outputs": [],
   "source": []
  }
 ],
 "metadata": {
  "kernelspec": {
   "display_name": "Python 3",
   "language": "python",
   "name": "python3"
  },
  "language_info": {
   "codemirror_mode": {
    "name": "ipython",
    "version": 3
   },
   "file_extension": ".py",
   "mimetype": "text/x-python",
   "name": "python",
   "nbconvert_exporter": "python",
   "pygments_lexer": "ipython3",
   "version": "3.6.3"
  }
 },
 "nbformat": 4,
 "nbformat_minor": 2
}
