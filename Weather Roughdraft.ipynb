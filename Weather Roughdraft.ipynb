{
 "cells": [
  {
   "cell_type": "code",
   "execution_count": null,
   "metadata": {
    "collapsed": true
   },
   "outputs": [],
   "source": [
    "#limit df to useful columns\n",
    "cities_df = pd.DataFrame({\n",
    "    \"Cities\": cities_df[\"city\"],\n",
    "    \"Country\": cities_df[\"country\"],\n",
    "    \"Latitude\": cities_df[\"lat\"],\n",
    "    \"Longitude\": cities_df[\"lng\"]},\n",
    "    columns = [\"City\", \"Country\", \"Latitude\", \"Longitude\"])\n",
    "\n",
    "cities_df.head()\n",
    "\n",
    "\n",
    "#cityList = cities_df['City'].tolist()\n",
    "\n",
    "for index, row in cities_df.iterrows():\n",
    "    \n",
    "    city = row['City']\n",
    "    \n",
    "    response = requests.get(query_url + city).json()\n",
    "    \n",
    "    try:\n",
    "        cities_df.set_value(index, \"Temperature (F)\",\n",
    "                            response['main'][\"temp\"])\n",
    "        cities_df.set_value(index, \"Cloudiness %\",\n",
    "                            response[\"clouds\"][\"all\"])\n",
    "        cities_df.set_value(index, \"Wind Speed (mph)\",\n",
    "                            response[\"wind\"][\"speed\"])\n",
    "        cities_df.set_value(index, \"Humidity %\",\n",
    "                            response[\"main\"][\"humidity\"])\n",
    "        \n",
    "    except (KeyError, IndexError):\n",
    "        print(\"Missing field/result... skipping.\")\n",
    "        \n",
    "print(\"check complete\")"
   ]
  }
 ],
 "metadata": {
  "kernelspec": {
   "display_name": "Python 3",
   "language": "python",
   "name": "python3"
  },
  "language_info": {
   "codemirror_mode": {
    "name": "ipython",
    "version": 3
   },
   "file_extension": ".py",
   "mimetype": "text/x-python",
   "name": "python",
   "nbconvert_exporter": "python",
   "pygments_lexer": "ipython3",
   "version": "3.6.3"
  }
 },
 "nbformat": 4,
 "nbformat_minor": 2
}
